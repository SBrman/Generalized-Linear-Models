{
 "cells": [
  {
   "cell_type": "code",
   "execution_count": 1,
   "id": "pharmaceutical-universe",
   "metadata": {},
   "outputs": [],
   "source": [
    "#! python3\n",
    "\n",
    "__author__ = 'Simanta Barman'\n",
    "__email__ = 'barman017@umn.edu'"
   ]
  },
  {
   "cell_type": "code",
   "execution_count": 2,
   "id": "productive-disney",
   "metadata": {},
   "outputs": [],
   "source": [
    "import numpy as np                               # For Linear algebra\n",
    "from scipy.linalg import toeplitz\n",
    "from matplotlib import pyplot as plt             # For Plotting\n",
    "\n",
    "plt.rcParams[\"figure.figsize\"] = (16, 9)"
   ]
  },
  {
   "cell_type": "code",
   "execution_count": 110,
   "id": "norwegian-creator",
   "metadata": {},
   "outputs": [],
   "source": [
    "class Statistics:\n",
    "    def __init__(self, data):\n",
    "        self.data = np.array(data)\n",
    "    \n",
    "    def mean(self, data=None):\n",
    "        data = data = self.data if data is None else data\n",
    "        return sum(data) / len(data)\n",
    "    \n",
    "    def variance(self, data=None):\n",
    "        data = np.array(data) if data is not None else self.data\n",
    "        return (np.sum((data - self.mean(data))**2) / len(data))\n",
    "    \n",
    "    def standard_deviation(self, data=None):\n",
    "        data = self.data if data is None else data \n",
    "        return self.variance(data) ** 0.5\n",
    "    \n",
    "    def auto_covariance(self, lag, data1=None, data2=None):\n",
    "        data1 = self.data if data1 is None else data1\n",
    "        data2 = self.data if data2 is None else data2\n",
    "        \n",
    "        data1 = data1[-len(data2):]\n",
    "        \n",
    "        return sum((data1[t] - self.mean(data1))*(data2[t+lag] - self.mean(data2)) for t in range(len(data2) - lag)) / len(data2)\n",
    "    \n",
    "    def acf(self, lag, data1=None, data2=None):\n",
    "        data1 = np.array(data1) if data1 is not None else self.data\n",
    "        data2 = np.array(data2) if data2 is not None else self.data\n",
    "        \n",
    "        return self.auto_covariance(lag, data1, data2) / (self.standard_deviation(data1) * self.standard_deviation(data1))\n",
    "    \n",
    "    def acf_plotter(self, lags=None, data=None):\n",
    "        data = np.array(data) if data is not None else self.data\n",
    "        if not lags:\n",
    "            lags = len(data)\n",
    "        \n",
    "\n",
    "        # Approximating Confidence Interval (ci) 95%\n",
    "        # if pos is 0 function returns lower interval else higher interval\n",
    "        ci_95 = lambda n, pos: (-1 / n) + (2 / n**0.5) * pos\n",
    "        \n",
    "        # plotting ci\n",
    "        ci_95_x = np.linspace(0, lags)\n",
    "        ci_95_y = np.ones_like(ci_95_x) * lags\n",
    "        plt.fill_between(ci_95_x, ci_95(ci_95_y, -1), ci_95(ci_95_y, 1), facecolor='green', alpha=0.2)\n",
    "        \n",
    "        # plotting acf\n",
    "        ys = [self.acf(k) for k in range(lags)]\n",
    "        plt.bar(list(range(lags)), ys, width=0.2)\n",
    "        plt.scatter(list(range(lags)), ys)\n",
    "        \n",
    "        plt.title('Autocorrelation vs Lags')\n",
    "        plt.xlabel('Lags')\n",
    "        plt.ylabel('Autocorrelation')\n",
    "        \n",
    "        plt.show()\n",
    "        \n",
    "    def pacf(self, lags=None, data=None):\n",
    "        data = np.array(data) if data is not None else self.data\n",
    "        if not lags or lags > len(data) // 2:\n",
    "            lags = len(data) // 2\n",
    "            \n",
    "        acfs = np.array([self.acf(k) for k in range(len(data))])\n",
    "        \n",
    "        # Levinson–Durbin recursion\n",
    "        matrix = toeplitz(acfs[:lags])\n",
    "        all_pacfs = np.linalg.inv(matrix).dot(acfs[1:lags+1])\n",
    "        \n",
    "        return np.insert(all_pacfs, 0, acfs[0])\n",
    "    \n",
    "    def pacf_plotter(self, lags=None, data=None):\n",
    "        data = np.array(data) if data is not None else self.data\n",
    "        if not lags or lags > len(data) // 2:\n",
    "            lags = len(data) // 2\n",
    "            \n",
    "        # Approximating Confidence Interval (ci) 95%\n",
    "        # if pos is 0 function returns lower interval else higher interval\n",
    "        ci_95 = lambda n, pos: (-1 / n) + (2 / n**0.5) * pos\n",
    "        \n",
    "        # plotting ci\n",
    "        ci_95_x = np.linspace(0, lags)\n",
    "        ci_95_y = np.ones_like(ci_95_x) * lags\n",
    "        plt.fill_between(ci_95_x, ci_95(ci_95_y, -1), ci_95(ci_95_y, 1), facecolor='green', alpha=0.2)\n",
    "        \n",
    "        pacfs = self.pacf(lags)\n",
    "        plt.bar(list(range(len(pacfs))), pacfs, width=0.2)\n",
    "        plt.scatter(list(range(len(pacfs))), pacfs)\n",
    "        plt.title('Partial Autocorrelation vs lags')\n",
    "        plt.title('Partial Autocorrelation vs Lags')\n",
    "        plt.xlabel('Lags')\n",
    "        plt.ylabel('Partial Autocorrelation')\n",
    "        plt.show()"
   ]
  },
  {
   "cell_type": "code",
   "execution_count": 111,
   "id": "stretch-plane",
   "metadata": {},
   "outputs": [],
   "source": [
    "data = np.random.randint(0, 11, size=100)\n",
    "stats = Statistics(data)"
   ]
  },
  {
   "cell_type": "code",
   "execution_count": 112,
   "id": "quiet-balance",
   "metadata": {},
   "outputs": [
    {
     "data": {
      "text/plain": [
       "4.71"
      ]
     },
     "execution_count": 112,
     "metadata": {},
     "output_type": "execute_result"
    }
   ],
   "source": [
    "stats.mean()"
   ]
  },
  {
   "cell_type": "code",
   "execution_count": 113,
   "id": "casual-dover",
   "metadata": {},
   "outputs": [
    {
     "data": {
      "text/plain": [
       "10.4059"
      ]
     },
     "execution_count": 113,
     "metadata": {},
     "output_type": "execute_result"
    }
   ],
   "source": [
    "stats.variance()"
   ]
  },
  {
   "cell_type": "code",
   "execution_count": 114,
   "id": "developed-glance",
   "metadata": {},
   "outputs": [
    {
     "data": {
      "text/plain": [
       "3.22581772578675"
      ]
     },
     "execution_count": 114,
     "metadata": {},
     "output_type": "execute_result"
    }
   ],
   "source": [
    "stats.standard_deviation()"
   ]
  },
  {
   "cell_type": "code",
   "execution_count": 115,
   "id": "alpine-thursday",
   "metadata": {},
   "outputs": [
    {
     "data": {
      "image/png": "[encoded data removed]",
      "text/plain": [
       "<Figure size 1152x648 with 1 Axes>"
      ]
     },
     "metadata": {
      "needs_background": "light"
     },
     "output_type": "display_data"
    }
   ],
   "source": [
    "stats.acf_plotter(100)"
   ]
  },
  {
   "cell_type": "code",
   "execution_count": 116,
   "id": "decimal-festival",
   "metadata": {},
   "outputs": [
    {
     "data": {
      "image/png": "[encoded data removed]",
      "text/plain": [
       "<Figure size 1152x648 with 1 Axes>"
      ]
     },
     "metadata": {
      "needs_background": "light"
     },
     "output_type": "display_data"
    }
   ],
   "source": [
    "stats.pacf_plotter()"
   ]
  },
  {
   "cell_type": "code",
   "execution_count": null,
   "id": "improved-growth",
   "metadata": {},
   "outputs": [],
   "source": []
  },
  {
   "cell_type": "code",
   "execution_count": null,
   "id": "ranging-fault",
   "metadata": {},
   "outputs": [],
   "source": []
  },
  {
   "cell_type": "code",
   "execution_count": null,
   "id": "strategic-archives",
   "metadata": {},
   "outputs": [],
   "source": []
  },
  {
   "cell_type": "code",
   "execution_count": null,
   "id": "recovered-cheat",
   "metadata": {},
   "outputs": [],
   "source": []
  },
  {
   "cell_type": "code",
   "execution_count": null,
   "id": "variable-livestock",
   "metadata": {},
   "outputs": [],
   "source": []
  },
  {
   "cell_type": "code",
   "execution_count": null,
   "id": "incorrect-gauge",
   "metadata": {},
   "outputs": [],
   "source": [
    "\n"
   ]
  },
  {
   "cell_type": "code",
   "execution_count": null,
   "id": "approved-hours",
   "metadata": {},
   "outputs": [],
   "source": []
  },
  {
   "cell_type": "code",
   "execution_count": null,
   "id": "interpreted-friday",
   "metadata": {},
   "outputs": [],
   "source": []
  },
  {
   "cell_type": "code",
   "execution_count": null,
   "id": "ceramic-medicine",
   "metadata": {},
   "outputs": [],
   "source": []
  },
  {
   "cell_type": "code",
   "execution_count": null,
   "id": "southeast-break",
   "metadata": {},
   "outputs": [],
   "source": []
  },
  {
   "cell_type": "code",
   "execution_count": null,
   "id": "dangerous-surgeon",
   "metadata": {},
   "outputs": [],
   "source": []
  },
  {
   "cell_type": "code",
   "execution_count": null,
   "id": "filled-highland",
   "metadata": {},
   "outputs": [],
   "source": []
  },
  {
   "cell_type": "code",
   "execution_count": null,
   "id": "clear-algeria",
   "metadata": {},
   "outputs": [],
   "source": []
  },
  {
   "cell_type": "code",
   "execution_count": null,
   "id": "divided-delight",
   "metadata": {},
   "outputs": [],
   "source": []
  },
  {
   "cell_type": "code",
   "execution_count": null,
   "id": "interracial-incident",
   "metadata": {},
   "outputs": [],
   "source": []
  },
  {
   "cell_type": "code",
   "execution_count": null,
   "id": "ready-happiness",
   "metadata": {},
   "outputs": [],
   "source": []
  },
  {
   "cell_type": "code",
   "execution_count": null,
   "id": "related-genre",
   "metadata": {},
   "outputs": [],
   "source": []
  }
 ],
 "metadata": {
  "kernelspec": {
   "display_name": "Python 3",
   "language": "python",
   "name": "python3"
  },
  "language_info": {
   "codemirror_mode": {
    "name": "ipython",
    "version": 3
   },
   "file_extension": ".py",
   "mimetype": "text/x-python",
   "name": "python",
   "nbconvert_exporter": "python",
   "pygments_lexer": "ipython3",
   "version": "3.9.4"
  }
 },
 "nbformat": 4,
 "nbformat_minor": 5
}
