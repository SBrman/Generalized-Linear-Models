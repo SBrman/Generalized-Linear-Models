{
 "cells": [
  {
   "cell_type": "markdown",
   "id": "popular-toilet",
   "metadata": {},
   "source": [
    "# Homework 4"
   ]
  },
  {
   "cell_type": "markdown",
   "id": "negative-scott",
   "metadata": {},
   "source": [
    "### Problem 2"
   ]
  },
  {
   "cell_type": "markdown",
   "id": "alone-slope",
   "metadata": {},
   "source": [
    "Dataset Structure:\n",
    "\n",
    "Total Gaps, Gap#1, Gap#2, Gap#3, Gap#4, Gap#5\n",
    "\n",
    "Gaps are in seconds. If a gap is not observed then the value for that column is set to -9."
   ]
  },
  {
   "cell_type": "code",
   "execution_count": 1,
   "id": "front-guard",
   "metadata": {},
   "outputs": [],
   "source": [
    "import csv\n",
    "from tabulate import tabulate\n",
    "from sklearn.metrics import roc_curve\n",
    "from sklearn.metrics import roc_auc_score\n",
    "from sklearn.metrics import confusion_matrix\n",
    "import numpy as np\n",
    "from math import log\n",
    "\n",
    "data = []\n",
    "with open(r'gapdata.txt', 'r') as data_file:\n",
    "    for row in csv.reader(data_file, delimiter='\\t'):\n",
    "        data.append(row)\n",
    "data = np.array(data)\n",
    "\n",
    "all_gaps = [[float(gap_) for gap_ in row if float(gap_) != -9] for row in data[:, 1:]]\n",
    "critical_gap = [sum(gap_)/len(gap_) for gap_ in all_gaps]"
   ]
  },
  {
   "cell_type": "code",
   "execution_count": 2,
   "id": "color-baghdad",
   "metadata": {},
   "outputs": [
    {
     "name": "stdout",
     "output_type": "stream",
     "text": [
      "['2' '10.5' '0' '-9' '-9' '-9' '-9']\n",
      "['2' '18' '0' '-9' '-9' '-9' '-9']\n",
      "['3' '5.5' '0' '0' '-9' '-9' '-9']\n",
      "['3' '5.5' '0' '0' '-9' '-9' '-9']\n",
      "['3' '9' '0.5' '0' '-9' '-9' '-9']\n",
      "['3' '13' '5.5' '0' '-9' '-9' '-9']\n",
      "['3' '30.5' '1.5' '0' '-9' '-9' '-9']\n",
      "['6' '11.5' '1' '1' '0.5' '0.5' '0']\n",
      "['4' '13.5' '3.5' '0.5' '0' '-9' '-9']\n",
      "['6' '13' '3.5' '1' '1' '1' '0']\n",
      "['2' '15.5' '0' '-9' '-9' '-9' '-9']\n",
      "['3' '13.5' '9.5' '0' '-9' '-9' '-9']\n",
      "['4' '18.5' '1.5' '1.5' '0' '-9' '-9']\n",
      "['2' '12' '0' '-9' '-9' '-9' '-9']\n",
      "['2' '10.5' '0' '-9' '-9' '-9' '-9']\n",
      "['3' '22.5' '5' '0' '-9' '-9' '-9']\n",
      "['3' '12.5' '2' '0' '-9' '-9' '-9']\n",
      "['3' '8.5' '3.5' '0' '-9' '-9' '-9']\n"
     ]
    }
   ],
   "source": [
    "for row in data:\n",
    "    for r in row:\n",
    "        if float(r) == 0:\n",
    "            print(row)"
   ]
  },
  {
   "cell_type": "code",
   "execution_count": 3,
   "id": "collaborative-deadline",
   "metadata": {},
   "outputs": [],
   "source": [
    "y = []\n",
    "old_gap = []\n",
    "gap = []\n",
    "vehicle = []\n",
    "crit_gap = []\n",
    "\n",
    "for vid, row in enumerate(data):\n",
    "    for i, in_row in enumerate(row[1:]):\n",
    "        if float(in_row) > 0:\n",
    "            vehicle.append(vid)\n",
    "            y.append(1 if not i else 0)  # only the 2nd column contains accepted gap\n",
    "            old_gap.append(float(in_row))\n",
    "            gap.append(log(float(in_row)))\n",
    "            crit_gap.append(log(critical_gap[vid]))"
   ]
  },
  {
   "cell_type": "code",
   "execution_count": 4,
   "id": "corporate-architect",
   "metadata": {},
   "outputs": [
    {
     "data": {
      "text/plain": [
       "True"
      ]
     },
     "execution_count": 4,
     "metadata": {},
     "output_type": "execute_result"
    }
   ],
   "source": [
    "y = np.array(y)\n",
    "gap = np.array(gap)\n",
    "vehicle_id = np.array(vehicle)\n",
    "crit_gap = np.array(crit_gap)\n",
    "\n",
    "# Check if all variables are of the same length\n",
    "len(y) == len(gap) and len(gap) == len(crit_gap) and len(crit_gap) == len(vehicle_id)"
   ]
  },
  {
   "cell_type": "markdown",
   "id": "monetary-nerve",
   "metadata": {},
   "source": [
    "### Total number of gaps in the dataset"
   ]
  },
  {
   "cell_type": "code",
   "execution_count": 5,
   "id": "african-mexican",
   "metadata": {},
   "outputs": [
    {
     "data": {
      "text/plain": [
       "418"
      ]
     },
     "execution_count": 5,
     "metadata": {},
     "output_type": "execute_result"
    }
   ],
   "source": [
    "len(y)"
   ]
  },
  {
   "cell_type": "markdown",
   "id": "bored-elite",
   "metadata": {},
   "source": [
    "### Response variables are Binary\n",
    "\n",
    "$y \\in \\{ 0, 1 \\} = \\{ \\text{\"Rejected\", \"Accepeted\"}\\}$"
   ]
  },
  {
   "cell_type": "markdown",
   "id": "waiting-bryan",
   "metadata": {},
   "source": [
    "### Explanatory Variables:\n",
    "$x_1 = \\text{log(Gap)}$\n",
    "\n",
    "$x_2 = \\text{Vehicle id}$\n",
    "\n",
    "$x_3 = \\text{Critical Gap   (Mean of valid gaps for a vehicle, -9 is an invalid gap)}$"
   ]
  },
  {
   "cell_type": "markdown",
   "id": "mediterranean-ballet",
   "metadata": {},
   "source": [
    "# View of the Data (1st 20 datapoints)"
   ]
  },
  {
   "cell_type": "code",
   "execution_count": 6,
   "id": "consolidated-crawford",
   "metadata": {},
   "outputs": [
    {
     "name": "stdout",
     "output_type": "stream",
     "text": [
      "  y    intercept (x0)    Gap (not used)    log Gap (x1)    Vehicle id (x2)    Critical Gap (x3)\n",
      "---  ----------------  ----------------  --------------  -----------------  -------------------\n",
      "  1                 1               3          1.09861                   0              1.15268\n",
      "  0                 1               3.5        1.25276                   0              1.15268\n",
      "  0                 1               3          1.09861                   0              1.15268\n",
      "  1                 1               8.5        2.14007                   1              2.14007\n",
      "  1                 1               6          1.79176                   2              1.79176\n",
      "  1                 1              11.5        2.44235                   3              1.22867\n",
      "  0                 1               6          1.79176                   3              1.22867\n",
      "  0                 1               1          0                         3              1.22867\n",
      "  0                 1               1          0                         3              1.22867\n",
      "  0                 1               0.5       -0.693147                  3              1.22867\n",
      "  0                 1               0.5       -0.693147                  3              1.22867\n",
      "  1                 1              10          2.30259                   4              2.30259\n",
      "  1                 1               5.5        1.70475                   5              1.38629\n",
      "  0                 1               6          1.79176                   5              1.38629\n",
      "  0                 1               0.5       -0.693147                  5              1.38629\n",
      "  1                 1              11.5        2.44235                   6              1.52243\n",
      "  0                 1               4.5        1.50408                   6              1.52243\n",
      "  0                 1               4          1.38629                   6              1.52243\n",
      "  0                 1               3.5        1.25276                   6              1.52243\n",
      "  0                 1               2          0.693147                  6              1.52243\n"
     ]
    }
   ],
   "source": [
    "dataset = [[\"y\", \"intercept (x0)\", \"Gap (not used)\", \"log Gap (x1)\", \"Vehicle id (x2)\", \"Critical Gap (x3)\"]]\n",
    "for i in range(20):\n",
    "    dataset.append([y[i], 1, old_gap[i], gap[i], vehicle_id[i], crit_gap[i]])\n",
    "print(tabulate(dataset, tablefmt='simple', stralign='center', headers=\"firstrow\"))"
   ]
  },
  {
   "cell_type": "code",
   "execution_count": 7,
   "id": "thorough-threat",
   "metadata": {},
   "outputs": [],
   "source": [
    "x = np.array(list(zip(gap, vehicle_id, crit_gap)))"
   ]
  },
  {
   "cell_type": "code",
   "execution_count": 8,
   "id": "planned-dylan",
   "metadata": {},
   "outputs": [],
   "source": [
    "import matplotlib.pyplot as plt\n",
    "import statsmodels.api as sm\n",
    "from sklearn.linear_model import LogisticRegression"
   ]
  },
  {
   "cell_type": "code",
   "execution_count": 9,
   "id": "earned-referral",
   "metadata": {},
   "outputs": [],
   "source": [
    "X = sm.add_constant(x)"
   ]
  },
  {
   "cell_type": "code",
   "execution_count": 10,
   "id": "greenhouse-logic",
   "metadata": {},
   "outputs": [],
   "source": [
    "def plot_roc_curve(fpr, tpr):\n",
    "    fig, ax = plt.subplots(figsize=(12, 9))\n",
    "    plt.plot(fpr, tpr, color='orange', label='ROC')\n",
    "    plt.plot([0, 1], [0, 1], color='darkblue', linestyle='--')\n",
    "    plt.xlabel('False Positive Rate')\n",
    "    plt.ylabel('True Positive Rate')\n",
    "    plt.title('Receiver Operating Characteristic (ROC) Curve')\n",
    "    plt.legend()\n",
    "    plt.show()\n",
    "\n",
    "def get_results(model, y, X):\n",
    "    if model == \"cloglog\": \n",
    "        m = sm.GLM(y, X, family=sm.families.Binomial(link=sm.families.links.cloglog())).fit()\n",
    "    else: \n",
    "        m = model(y, X).fit()\n",
    "    print(m.summary2(), '\\n')\n",
    "    \n",
    "    for i in [0.25, 0.50, 0.75]:\n",
    "        y_hat = (m.predict(X) > i).astype('float')\n",
    "        pt = confusion_matrix(y, y_hat, normalize=None)\n",
    "        print(f\"Confusion matrix for probability threshold = {i}:\\n{pt}\\n\")\n",
    "        dr = pt[1][1] / (pt[1][0] + pt[1][1])\n",
    "        fp = pt[0][1] / (pt[0][0] + pt[0][1])\n",
    "        print(f\"Detection Rate = {pt[1][1]} / {(pt[1][0] + pt[1][1])}\"\n",
    "              f\" = {round(dr, 2)}\")\n",
    "        print(f\"False Positive Rate = {pt[0][1]} / {(pt[0][0] + pt[0][1])}\"\n",
    "              f\" = {round(fp, 2)}\\n\\n\")\n",
    "    \n",
    "    probs = m.predict(X)\n",
    "    auc = roc_auc_score(y, probs)\n",
    "    fpr, tpr, thresholds = roc_curve(y, probs)\n",
    "    plot_roc_curve(fpr, tpr)\n",
    "    \n",
    "    print(f\"Area Under Curve = {auc}\")\n",
    "    print('\\n\\n\\n')\n",
    "    return y_hat"
   ]
  },
  {
   "cell_type": "code",
   "execution_count": 17,
   "id": "medieval-boating",
   "metadata": {},
   "outputs": [
    {
     "name": "stdout",
     "output_type": "stream",
     "text": [
      "Optimization terminated successfully.\n",
      "         Current function value: 0.223208\n",
      "         Iterations 8\n",
      "                         Results: Logit\n",
      "=================================================================\n",
      "Model:              Logit            Pseudo R-squared: 0.678     \n",
      "Dependent Variable: y                AIC:              194.6016  \n",
      "Date:               2021-04-13 12:05 BIC:              210.7435  \n",
      "No. Observations:   418              Log-Likelihood:   -93.301   \n",
      "Df Model:           3                LL-Null:          -289.56   \n",
      "Df Residuals:       414              LLR p-value:      9.2105e-85\n",
      "Converged:          1.0000           Scale:            1.0000    \n",
      "No. Iterations:     8.0000                                       \n",
      "-------------------------------------------------------------------\n",
      "           Coef.    Std.Err.      z      P>|z|     [0.025    0.975]\n",
      "-------------------------------------------------------------------\n",
      "const     -4.8304     0.6977   -6.9230   0.0000   -6.1979   -3.4629\n",
      "x1         4.2505     0.4742    8.9632   0.0000    3.3210    5.1800\n",
      "x2         0.0053     0.0034    1.5529   0.1204   -0.0014    0.0121\n",
      "x3        -1.6911     0.4767   -3.5479   0.0004   -2.6254   -0.7569\n",
      "=================================================================\n",
      " \n",
      "\n",
      "Confusion matrix for probability threshold = 0.25:\n",
      "[[177  38]\n",
      " [  8 195]]\n",
      "\n",
      "Detection Rate = 195 / 203 = 0.96\n",
      "False Positive Rate = 38 / 215 = 0.18\n",
      "\n",
      "\n",
      "Confusion matrix for probability threshold = 0.5:\n",
      "[[194  21]\n",
      " [ 15 188]]\n",
      "\n",
      "Detection Rate = 188 / 203 = 0.93\n",
      "False Positive Rate = 21 / 215 = 0.1\n",
      "\n",
      "\n",
      "Confusion matrix for probability threshold = 0.75:\n",
      "[[204  11]\n",
      " [ 38 165]]\n",
      "\n",
      "Detection Rate = 165 / 203 = 0.81\n",
      "False Positive Rate = 11 / 215 = 0.05\n",
      "\n",
      "\n"
     ]
    },
    {
     "data": {
      "image/png": "[encoded data removed]",
      "text/plain": [
       "<Figure size 864x648 with 1 Axes>"
      ]
     },
     "metadata": {
      "needs_background": "light"
     },
     "output_type": "display_data"
    },
    {
     "name": "stdout",
     "output_type": "stream",
     "text": [
      "Area Under Curve = 0.9698018100584259\n",
      "\n",
      "\n",
      "\n",
      "\n"
     ]
    }
   ],
   "source": [
    "yhat = get_results(sm.Logit, y, X)"
   ]
  },
  {
   "cell_type": "code",
   "execution_count": 12,
   "id": "antique-flooring",
   "metadata": {},
   "outputs": [
    {
     "data": {
      "text/plain": [
       "array([0., 0., 0., 0., 0., 1., 0., 0., 0., 0., 0., 0., 0., 0., 0., 1., 0.,\n",
       "       0., 0., 0., 0., 0., 1., 0., 0., 0., 0., 0., 0., 1., 0., 0., 0., 0.,\n",
       "       1., 0., 0., 0., 0., 0., 0., 0., 1., 0., 0., 0., 0., 1., 0., 0., 0.,\n",
       "       0., 0., 0., 0., 0., 0., 1., 0., 1., 1., 1., 1., 1., 0., 1., 0., 0.,\n",
       "       1., 0., 0., 0., 1., 0., 0., 0., 0., 0., 1., 0., 0., 1., 0., 0., 0.,\n",
       "       0., 0., 0., 1., 0., 0., 1., 0., 1., 1., 0., 0., 0., 1., 0., 0., 0.,\n",
       "       0., 1., 0., 0., 0., 0., 0., 1., 1., 1., 1., 0., 0., 0., 1., 0., 0.,\n",
       "       1., 0., 0., 0., 1., 0., 1., 0., 0., 0., 0., 0., 1., 0., 0., 1., 0.,\n",
       "       0., 0., 0., 0., 0., 1., 1., 0., 0., 0., 0., 1., 0., 0., 1., 0., 0.,\n",
       "       1., 0., 0., 1., 0., 1., 1., 0., 0., 1., 1., 0., 0., 0., 0., 1., 1.,\n",
       "       0., 0., 0., 0., 0., 1., 0., 0., 0., 0., 0., 1., 1., 0., 0., 1., 0.,\n",
       "       0., 0., 0., 0., 0., 0., 0., 0., 1., 0., 0., 0., 1., 0., 0., 0., 1.,\n",
       "       1., 0., 0., 0., 0., 0., 0., 1., 1., 1., 0., 1., 1., 0., 0., 0., 0.,\n",
       "       0., 1., 0., 1., 0., 0., 0., 0., 1., 0., 0., 0., 0., 1., 0., 0., 0.,\n",
       "       0., 0., 1., 0., 0., 1., 1., 1., 1., 0., 0., 1., 0., 1., 1., 1., 0.,\n",
       "       1., 1., 0., 0., 0., 1., 1., 1., 1., 1., 1., 1., 1., 1., 0., 1., 1.,\n",
       "       0., 0., 1., 1., 0., 0., 1., 1., 1., 1., 0., 1., 1., 1., 1., 0., 0.,\n",
       "       0., 0., 1., 0., 1., 1., 1., 1., 1., 0., 1., 0., 1., 1., 0., 1., 1.,\n",
       "       1., 0., 1., 0., 1., 1., 0., 0., 1., 1., 0., 0., 1., 1., 1., 1., 0.,\n",
       "       0., 1., 1., 0., 1., 1., 0., 0., 1., 0., 0., 1., 0., 0., 0., 0., 1.,\n",
       "       0., 0., 1., 1., 0., 1., 0., 1., 0., 0., 1., 0., 1., 0., 1., 1., 1.,\n",
       "       0., 1., 1., 1., 1., 1., 1., 1., 0., 0., 1., 0., 0., 1., 0., 1., 1.,\n",
       "       0., 1., 1., 1., 0., 1., 1., 0., 1., 1., 0., 0., 1., 1., 1., 0., 0.,\n",
       "       1., 1., 1., 1., 1., 1., 0., 1., 1., 1., 1., 1., 1., 1., 1., 1., 1.,\n",
       "       1., 0., 0., 0., 1., 1., 1., 1., 1., 1.])"
      ]
     },
     "execution_count": 12,
     "metadata": {},
     "output_type": "execute_result"
    }
   ],
   "source": [
    "yhat"
   ]
  },
  {
   "cell_type": "code",
   "execution_count": 13,
   "id": "consolidated-rebecca",
   "metadata": {},
   "outputs": [],
   "source": [
    "yhat = np.array(yhat, dtype=int)"
   ]
  },
  {
   "cell_type": "code",
   "execution_count": 14,
   "id": "welsh-tulsa",
   "metadata": {},
   "outputs": [
    {
     "data": {
      "text/plain": [
       "array([0, 0, 0, 0, 0, 1, 0, 0, 0, 0, 0, 0, 0, 0, 0, 1, 0, 0, 0, 0, 0, 0,\n",
       "       1, 0, 0, 0, 0, 0, 0, 1, 0, 0, 0, 0, 1, 0, 0, 0, 0, 0, 0, 0, 1, 0,\n",
       "       0, 0, 0, 1, 0, 0, 0, 0, 0, 0, 0, 0, 0, 1, 0, 1, 1, 1, 1, 1, 0, 1,\n",
       "       0, 0, 1, 0, 0, 0, 1, 0, 0, 0, 0, 0, 1, 0, 0, 1, 0, 0, 0, 0, 0, 0,\n",
       "       1, 0, 0, 1, 0, 1, 1, 0, 0, 0, 1, 0, 0, 0, 0, 1, 0, 0, 0, 0, 0, 1,\n",
       "       1, 1, 1, 0, 0, 0, 1, 0, 0, 1, 0, 0, 0, 1, 0, 1, 0, 0, 0, 0, 0, 1,\n",
       "       0, 0, 1, 0, 0, 0, 0, 0, 0, 1, 1, 0, 0, 0, 0, 1, 0, 0, 1, 0, 0, 1,\n",
       "       0, 0, 1, 0, 1, 1, 0, 0, 1, 1, 0, 0, 0, 0, 1, 1, 0, 0, 0, 0, 0, 1,\n",
       "       0, 0, 0, 0, 0, 1, 1, 0, 0, 1, 0, 0, 0, 0, 0, 0, 0, 0, 0, 1, 0, 0,\n",
       "       0, 1, 0, 0, 0, 1, 1, 0, 0, 0, 0, 0, 0, 1, 1, 1, 0, 1, 1, 0, 0, 0,\n",
       "       0, 0, 1, 0, 1, 0, 0, 0, 0, 1, 0, 0, 0, 0, 1, 0, 0, 0, 0, 0, 1, 0,\n",
       "       0, 1, 1, 1, 1, 0, 0, 1, 0, 1, 1, 1, 0, 1, 1, 0, 0, 0, 1, 1, 1, 1,\n",
       "       1, 1, 1, 1, 1, 0, 1, 1, 0, 0, 1, 1, 0, 0, 1, 1, 1, 1, 0, 1, 1, 1,\n",
       "       1, 0, 0, 0, 0, 1, 0, 1, 1, 1, 1, 1, 0, 1, 0, 1, 1, 0, 1, 1, 1, 0,\n",
       "       1, 0, 1, 1, 0, 0, 1, 1, 0, 0, 1, 1, 1, 1, 0, 0, 1, 1, 0, 1, 1, 0,\n",
       "       0, 1, 0, 0, 1, 0, 0, 0, 0, 1, 0, 0, 1, 1, 0, 1, 0, 1, 0, 0, 1, 0,\n",
       "       1, 0, 1, 1, 1, 0, 1, 1, 1, 1, 1, 1, 1, 0, 0, 1, 0, 0, 1, 0, 1, 1,\n",
       "       0, 1, 1, 1, 0, 1, 1, 0, 1, 1, 0, 0, 1, 1, 1, 0, 0, 1, 1, 1, 1, 1,\n",
       "       1, 0, 1, 1, 1, 1, 1, 1, 1, 1, 1, 1, 1, 0, 0, 0, 1, 1, 1, 1, 1, 1])"
      ]
     },
     "execution_count": 14,
     "metadata": {},
     "output_type": "execute_result"
    }
   ],
   "source": [
    "yhat"
   ]
  },
  {
   "cell_type": "code",
   "execution_count": 15,
   "id": "respective-jurisdiction",
   "metadata": {},
   "outputs": [],
   "source": [
    "y = np.array(y, dtype=int)"
   ]
  },
  {
   "cell_type": "code",
   "execution_count": 16,
   "id": "industrial-discovery",
   "metadata": {},
   "outputs": [
    {
     "data": {
      "text/plain": [
       "array([1, 0, 0, 1, 1, 1, 0, 0, 0, 0, 0, 1, 1, 0, 0, 1, 0, 0, 0, 0, 0, 1,\n",
       "       1, 0, 0, 0, 1, 0, 1, 0, 0, 0, 0, 0, 1, 0, 0, 0, 0, 0, 1, 1, 0, 0,\n",
       "       0, 0, 0, 1, 0, 0, 0, 1, 0, 0, 0, 0, 0, 1, 0, 1, 1, 1, 1, 1, 0, 1,\n",
       "       0, 1, 0, 0, 0, 0, 1, 0, 0, 0, 0, 0, 1, 0, 0, 1, 0, 0, 0, 0, 0, 1,\n",
       "       1, 0, 1, 1, 1, 0, 1, 0, 0, 0, 1, 0, 0, 0, 0, 1, 0, 0, 0, 0, 0, 1,\n",
       "       1, 1, 1, 0, 0, 0, 1, 0, 0, 1, 0, 0, 0, 1, 0, 1, 0, 0, 0, 0, 0, 1,\n",
       "       0, 1, 1, 0, 0, 0, 0, 0, 1, 1, 1, 0, 0, 0, 0, 1, 0, 0, 1, 0, 0, 1,\n",
       "       0, 1, 1, 0, 1, 1, 0, 0, 1, 1, 0, 0, 0, 0, 1, 1, 0, 0, 0, 0, 0, 1,\n",
       "       0, 0, 0, 0, 0, 1, 1, 0, 0, 1, 0, 0, 0, 0, 0, 1, 0, 0, 0, 1, 0, 0,\n",
       "       0, 1, 1, 1, 0, 1, 1, 0, 0, 0, 0, 1, 0, 1, 1, 0, 0, 1, 1, 0, 1, 0,\n",
       "       0, 0, 1, 1, 0, 0, 0, 0, 0, 1, 0, 0, 0, 0, 1, 0, 0, 0, 0, 0, 1, 0,\n",
       "       0, 1, 0, 1, 0, 0, 0, 1, 1, 1, 1, 1, 0, 1, 1, 0, 0, 0, 1, 1, 1, 1,\n",
       "       1, 1, 1, 1, 1, 0, 1, 1, 0, 0, 1, 1, 1, 1, 1, 1, 1, 1, 0, 1, 1, 1,\n",
       "       0, 0, 0, 1, 1, 1, 1, 1, 1, 1, 1, 1, 0, 1, 0, 1, 1, 0, 1, 0, 1, 1,\n",
       "       1, 0, 1, 1, 0, 0, 1, 1, 0, 0, 1, 1, 1, 1, 1, 0, 1, 1, 0, 1, 1, 1,\n",
       "       0, 1, 0, 1, 1, 0, 0, 1, 0, 1, 0, 0, 1, 1, 0, 1, 1, 0, 0, 0, 1, 0,\n",
       "       1, 0, 1, 1, 1, 0, 1, 1, 1, 1, 1, 1, 1, 0, 0, 1, 0, 0, 1, 0, 1, 1,\n",
       "       0, 1, 1, 1, 0, 1, 1, 0, 1, 1, 0, 0, 1, 1, 1, 0, 0, 1, 1, 1, 1, 1,\n",
       "       1, 0, 1, 1, 1, 1, 1, 1, 1, 1, 1, 1, 1, 0, 1, 1, 1, 1, 1, 1, 1, 1])"
      ]
     },
     "execution_count": 16,
     "metadata": {},
     "output_type": "execute_result"
    }
   ],
   "source": [
    "y"
   ]
  },
  {
   "cell_type": "code",
   "execution_count": null,
   "id": "expanded-wisconsin",
   "metadata": {},
   "outputs": [],
   "source": []
  }
 ],
 "metadata": {
  "kernelspec": {
   "display_name": "Python 3",
   "language": "python",
   "name": "python3"
  },
  "language_info": {
   "codemirror_mode": {
    "name": "ipython",
    "version": 3
   },
   "file_extension": ".py",
   "mimetype": "text/x-python",
   "name": "python",
   "nbconvert_exporter": "python",
   "pygments_lexer": "ipython3",
   "version": "3.9.2"
  }
 },
 "nbformat": 4,
 "nbformat_minor": 5
}
