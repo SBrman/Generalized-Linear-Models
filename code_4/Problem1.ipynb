{
 "cells": [
  {
   "cell_type": "markdown",
   "id": "daily-baseline",
   "metadata": {},
   "source": [
    "# Homework 4"
   ]
  },
  {
   "cell_type": "markdown",
   "id": "graphic-shopping",
   "metadata": {},
   "source": [
    "### Problem 1"
   ]
  },
  {
   "cell_type": "markdown",
   "id": "fuzzy-ultimate",
   "metadata": {},
   "source": [
    "Dataset Structure:\n",
    "\n",
    "Total Gaps, Gap#1, Gap#2, Gap#3, Gap#4, Gap#5\n",
    "\n",
    "Gaps are in seconds. If a gap is not observed then the value for that column is set to -9."
   ]
  },
  {
   "cell_type": "code",
   "execution_count": 1,
   "id": "tired-return",
   "metadata": {},
   "outputs": [],
   "source": [
    "import csv\n",
    "from tabulate import tabulate\n",
    "from sklearn.metrics import roc_curve\n",
    "from sklearn.metrics import roc_auc_score\n",
    "from sklearn.metrics import confusion_matrix\n",
    "import numpy as np\n",
    "\n",
    "data = []\n",
    "with open(r'gapdata.txt', 'r') as data_file:\n",
    "    for row in csv.reader(data_file, delimiter='\\t'):\n",
    "        data.append(row)\n",
    "data = np.array(data)\n",
    "\n",
    "all_gaps = [[float(gap_) for gap_ in row if float(gap_) != -9] for row in data[:, 1:]]\n",
    "critical_gap = [sum(gap_)/len(gap_) for gap_ in all_gaps]"
   ]
  },
  {
   "cell_type": "code",
   "execution_count": 2,
   "id": "frequent-witch",
   "metadata": {},
   "outputs": [],
   "source": [
    "y = []\n",
    "gap = []\n",
    "vehicle = []\n",
    "crit_gap = []\n",
    "\n",
    "for vid, row in enumerate(data):\n",
    "    for i, in_row in enumerate(row[1:]):\n",
    "        if float(in_row) != -9:\n",
    "            vehicle.append(vid)\n",
    "            y.append(1 if not i else 0)  # only the 2nd column contains accepted gap\n",
    "            gap.append(float(in_row))\n",
    "            crit_gap.append(critical_gap[vid])"
   ]
  },
  {
   "cell_type": "code",
   "execution_count": 3,
   "id": "unexpected-defensive",
   "metadata": {},
   "outputs": [
    {
     "data": {
      "text/plain": [
       "True"
      ]
     },
     "execution_count": 3,
     "metadata": {},
     "output_type": "execute_result"
    }
   ],
   "source": [
    "y = np.array(y)\n",
    "gap = np.array(gap)\n",
    "vehicle_id = np.array(vehicle)\n",
    "crit_gap = np.array(crit_gap)\n",
    "\n",
    "# Check if all variables are of the same length\n",
    "len(y) == len(gap) and len(gap) == len(crit_gap) and len(crit_gap) == len(vehicle_id)"
   ]
  },
  {
   "cell_type": "markdown",
   "id": "unique-cooperative",
   "metadata": {},
   "source": [
    "### Total number of gaps in the dataset"
   ]
  },
  {
   "cell_type": "code",
   "execution_count": 4,
   "id": "naughty-associate",
   "metadata": {},
   "outputs": [
    {
     "data": {
      "text/plain": [
       "436"
      ]
     },
     "execution_count": 4,
     "metadata": {},
     "output_type": "execute_result"
    }
   ],
   "source": [
    "len(y)"
   ]
  },
  {
   "cell_type": "markdown",
   "id": "ready-gilbert",
   "metadata": {},
   "source": [
    "### Response variables are Binary\n",
    "\n",
    "$y \\in \\{ 0, 1 \\} = \\{ \\text{\"Rejected\", \"Accepeted\"}\\}$"
   ]
  },
  {
   "cell_type": "markdown",
   "id": "nuclear-portable",
   "metadata": {},
   "source": [
    "### Explanatory Variables:\n",
    "$x_1 = \\text{Gap}$\n",
    "\n",
    "$x_2 = \\text{Vehicle id}$\n",
    "\n",
    "$x_3 = \\text{Critical Gap   (Mean of valid gaps for a vehicle, -9 is an invalid gap)}$"
   ]
  },
  {
   "cell_type": "markdown",
   "id": "auburn-surrey",
   "metadata": {},
   "source": [
    "# View of the Data (1st 20 datapoints)"
   ]
  },
  {
   "cell_type": "code",
   "execution_count": 5,
   "id": "increased-korea",
   "metadata": {},
   "outputs": [
    {
     "name": "stdout",
     "output_type": "stream",
     "text": [
      "  y    intercept (x0)    Gap (x1)    Vehicle id (x2)    Critical Gap (x3)\n",
      "---  ----------------  ----------  -----------------  -------------------\n",
      "  1                 1         3                    0              3.16667\n",
      "  0                 1         3.5                  0              3.16667\n",
      "  0                 1         3                    0              3.16667\n",
      "  1                 1         8.5                  1              8.5\n",
      "  1                 1         6                    2              6\n",
      "  1                 1        11.5                  3              3.41667\n",
      "  0                 1         6                    3              3.41667\n",
      "  0                 1         1                    3              3.41667\n",
      "  0                 1         1                    3              3.41667\n",
      "  0                 1         0.5                  3              3.41667\n",
      "  0                 1         0.5                  3              3.41667\n",
      "  1                 1        10                    4             10\n",
      "  1                 1         5.5                  5              4\n",
      "  0                 1         6                    5              4\n",
      "  0                 1         0.5                  5              4\n",
      "  1                 1        11.5                  6              4.58333\n",
      "  0                 1         4.5                  6              4.58333\n",
      "  0                 1         4                    6              4.58333\n",
      "  0                 1         3.5                  6              4.58333\n",
      "  0                 1         2                    6              4.58333\n"
     ]
    }
   ],
   "source": [
    "dataset = [[\"y\", \"intercept (x0)\", \"Gap (x1)\", \"Vehicle id (x2)\", \"Critical Gap (x3)\"]]\n",
    "for i in range(20):\n",
    "    dataset.append([y[i], 1, gap[i], vehicle_id[i], crit_gap[i]])\n",
    "print(tabulate(dataset, tablefmt='simple', stralign='center', headers=\"firstrow\"))"
   ]
  },
  {
   "cell_type": "code",
   "execution_count": 19,
   "id": "private-dynamics",
   "metadata": {},
   "outputs": [
    {
     "data": {
      "text/plain": [
       "array([[  3.        ,   0.        ,   3.16666667],\n",
       "       [  3.5       ,   0.        ,   3.16666667],\n",
       "       [  3.        ,   0.        ,   3.16666667],\n",
       "       ...,\n",
       "       [ 16.        , 200.        ,  16.        ],\n",
       "       [ 25.        , 201.        ,  25.        ],\n",
       "       [ 15.5       , 202.        ,  15.5       ]])"
      ]
     },
     "execution_count": 19,
     "metadata": {},
     "output_type": "execute_result"
    }
   ],
   "source": [
    "x = np.array(list(zip(gap, vehicle_id, crit_gap)))"
   ]
  },
  {
   "cell_type": "code",
   "execution_count": 7,
   "id": "addressed-memorial",
   "metadata": {},
   "outputs": [],
   "source": [
    "import matplotlib.pyplot as plt\n",
    "import statsmodels.api as sm\n",
    "from sklearn.linear_model import LogisticRegression"
   ]
  },
  {
   "cell_type": "code",
   "execution_count": 8,
   "id": "studied-daughter",
   "metadata": {},
   "outputs": [],
   "source": [
    "X = sm.add_constant(x)\n",
    "\n",
    "glm_logit = sm.GLM(y, X, family=sm.families.Binomial(link=sm.families.links.logit()))\n",
    "result_logit = glm_logit.fit()\n",
    "stats_logit = result_logit.summary()\n",
    "# print(stats_logit)"
   ]
  },
  {
   "cell_type": "code",
   "execution_count": 9,
   "id": "french-writer",
   "metadata": {},
   "outputs": [],
   "source": [
    "glm_probit = sm.GLM(y, X, family=sm.families.Binomial(link=sm.families.links.probit()))\n",
    "result_probit = glm_probit.fit()\n",
    "stats_probit = result_probit.summary()\n",
    "stats_probit2 = result_probit.summary2()\n",
    "# print(stats_probit)"
   ]
  },
  {
   "cell_type": "code",
   "execution_count": 10,
   "id": "olympic-douglas",
   "metadata": {},
   "outputs": [],
   "source": [
    "glm_cloglog = sm.GLM(y, X, family=sm.families.Binomial(link=sm.families.links.cloglog()))\n",
    "result_cloglog = glm_cloglog.fit()\n",
    "stats_cloglog = result_cloglog.summary()\n",
    "stats_cloglog2 = result_cloglog.summary2()\n",
    "# print(stats_cloglog)"
   ]
  },
  {
   "cell_type": "code",
   "execution_count": 11,
   "id": "harmful-miniature",
   "metadata": {},
   "outputs": [],
   "source": [
    "result_cloglog.predict(X);"
   ]
  },
  {
   "cell_type": "code",
   "execution_count": null,
   "id": "needed-stephen",
   "metadata": {},
   "outputs": [],
   "source": []
  },
  {
   "cell_type": "code",
   "execution_count": null,
   "id": "colonial-cambridge",
   "metadata": {},
   "outputs": [],
   "source": []
  },
  {
   "cell_type": "code",
   "execution_count": null,
   "id": "inner-class",
   "metadata": {},
   "outputs": [],
   "source": []
  },
  {
   "cell_type": "code",
   "execution_count": null,
   "id": "bridal-melbourne",
   "metadata": {},
   "outputs": [],
   "source": []
  },
  {
   "cell_type": "code",
   "execution_count": null,
   "id": "respiratory-bloom",
   "metadata": {},
   "outputs": [],
   "source": []
  },
  {
   "cell_type": "code",
   "execution_count": 12,
   "id": "organizational-heater",
   "metadata": {},
   "outputs": [],
   "source": [
    "def plot_roc_curve(fpr, tpr):\n",
    "    fig, ax = plt.subplots(figsize=(12, 9))\n",
    "    plt.plot(fpr, tpr, color='orange', label='ROC')\n",
    "    plt.plot([0, 1], [0, 1], color='darkblue', linestyle='--')\n",
    "    plt.xlabel('False Positive Rate')\n",
    "    plt.ylabel('True Positive Rate')\n",
    "    plt.title('Receiver Operating Characteristic (ROC) Curve')\n",
    "    plt.legend()\n",
    "    plt.show()\n",
    "\n",
    "def get_results(model, y, X):\n",
    "    if model == \"cloglog\": \n",
    "        m = sm.GLM(y, X, family=sm.families.Binomial(link=sm.families.links.cloglog())).fit()\n",
    "    else: \n",
    "        m = model(y, X).fit()\n",
    "    print(m.summary2(), '\\n')\n",
    "    \n",
    "    for i in [0.25, 0.50, 0.75]:\n",
    "        y_hat = (m.predict(X) > i).astype('float')\n",
    "        pt = confusion_matrix(y, y_hat, normalize=None)\n",
    "        print(f\"Confusion matrix for probability threshold = {i}:\\n{pt}\\n\")\n",
    "        dr = pt[1][1] / (pt[1][0] + pt[1][1])\n",
    "        fp = pt[0][1] / (pt[0][0] + pt[0][1])\n",
    "        print(f\"Detection Rate = {pt[1][1]} / {(pt[1][0] + pt[1][1])}\"\n",
    "              f\" = {round(dr, 2)}\")\n",
    "        print(f\"False Positive Rate = {pt[0][1]} / {(pt[0][0] + pt[0][1])}\"\n",
    "              f\" = {round(fp, 2)}\\n\\n\")\n",
    "    \n",
    "    probs = m.predict(X)\n",
    "    auc = roc_auc_score(y, probs)\n",
    "    fpr, tpr, thresholds = roc_curve(y, probs)\n",
    "    plot_roc_curve(fpr, tpr)\n",
    "    \n",
    "    print(f\"Area Under Curve = {auc}\")\n",
    "    print('\\n\\n\\n')\n",
    "    return y_hat"
   ]
  },
  {
   "cell_type": "code",
   "execution_count": 13,
   "id": "cardiovascular-request",
   "metadata": {},
   "outputs": [
    {
     "name": "stdout",
     "output_type": "stream",
     "text": [
      "Optimization terminated successfully.\n",
      "         Current function value: 0.208213\n",
      "         Iterations 9\n",
      "                         Results: Logit\n",
      "=================================================================\n",
      "Model:              Logit            Pseudo R-squared: 0.699     \n",
      "Dependent Variable: y                AIC:              189.5614  \n",
      "Date:               2021-05-01 21:33 BIC:              205.8719  \n",
      "No. Observations:   436              Log-Likelihood:   -90.781   \n",
      "Df Model:           3                LL-Null:          -301.18   \n",
      "Df Residuals:       432              LLR p-value:      6.9195e-91\n",
      "Converged:          1.0000           Scale:            1.0000    \n",
      "No. Iterations:     9.0000                                       \n",
      "-------------------------------------------------------------------\n",
      "           Coef.    Std.Err.      z      P>|z|     [0.025    0.975]\n",
      "-------------------------------------------------------------------\n",
      "const     -3.4709     0.4683   -7.4120   0.0000   -4.3887   -2.5531\n",
      "x1         0.8746     0.0983    8.9015   0.0000    0.6820    1.0672\n",
      "x2         0.0067     0.0035    1.9094   0.0562   -0.0002    0.0135\n",
      "x3        -0.4189     0.1004   -4.1738   0.0000   -0.6156   -0.2222\n",
      "=================================================================\n",
      " \n",
      "\n",
      "Confusion matrix for probability threshold = 0.25:\n",
      "[[203  30]\n",
      " [  9 194]]\n",
      "\n",
      "Detection Rate = 194 / 203 = 0.96\n",
      "False Positive Rate = 30 / 233 = 0.13\n",
      "\n",
      "\n",
      "Confusion matrix for probability threshold = 0.5:\n",
      "[[216  17]\n",
      " [ 18 185]]\n",
      "\n",
      "Detection Rate = 185 / 203 = 0.91\n",
      "False Positive Rate = 17 / 233 = 0.07\n",
      "\n",
      "\n",
      "Confusion matrix for probability threshold = 0.75:\n",
      "[[224   9]\n",
      " [ 39 164]]\n",
      "\n",
      "Detection Rate = 164 / 203 = 0.81\n",
      "False Positive Rate = 9 / 233 = 0.04\n",
      "\n",
      "\n"
     ]
    },
    {
     "data": {
      "image/png": "[encoded data removed]",
      "text/plain": [
       "<Figure size 864x648 with 1 Axes>"
      ]
     },
     "metadata": {
      "needs_background": "light"
     },
     "output_type": "display_data"
    },
    {
     "name": "stdout",
     "output_type": "stream",
     "text": [
      "Area Under Curve = 0.9742066428465719\n",
      "\n",
      "\n",
      "\n",
      "\n",
      "y_<class 'statsmodels.discrete.discrete_model.Logit'> = [0, 0, 0, 0, 0, 1, 0, 0, 0, 0, 0, 1, 0, 0, 0, 1, 0, 0, 0, 0, 0, 0, 1, 0, 0, 0, 0, 0, 0, 1, 0, 0, 0, 0, 1, 0, 0, 0, 0, 0, 0, 0, 0, 0, 0, 0, 0, 1, 0, 0, 0, 0, 0, 0, 0, 0, 0, 1, 0, 1, 0, 1, 0, 0, 0, 0, 1, 1, 0, 0, 1, 0, 0, 1, 0, 0, 0, 1, 0, 0, 0, 0, 0, 1, 0, 0, 1, 0, 0, 0, 0, 0, 0, 1, 0, 0, 0, 1, 0, 1, 1, 0, 0, 0, 1, 0, 0, 0, 0, 1, 0, 0, 0, 0, 0, 1, 1, 1, 1, 0, 0, 0, 1, 0, 0, 1, 0, 0, 0, 1, 0, 0, 1, 0, 0, 0, 0, 0, 1, 0, 0, 1, 0, 0, 0, 0, 0, 0, 1, 1, 0, 0, 0, 0, 0, 1, 0, 0, 1, 0, 0, 1, 0, 0, 1, 0, 1, 1, 0, 0, 0, 1, 1, 0, 0, 0, 0, 1, 1, 0, 0, 0, 0, 0, 1, 0, 0, 0, 0, 0, 1, 1, 0, 0, 1, 0, 0, 0, 0, 0, 0, 0, 0, 0, 1, 0, 0, 0, 1, 0, 0, 0, 1, 1, 0, 0, 0, 0, 0, 0, 0, 1, 1, 1, 0, 1, 0, 1, 0, 0, 0, 0, 0, 1, 0, 1, 0, 0, 0, 0, 1, 0, 0, 0, 0, 1, 0, 0, 0, 0, 0, 1, 0, 0, 1, 1, 1, 0, 0, 0, 1, 0, 1, 1, 1, 0, 1, 1, 0, 0, 0, 1, 1, 1, 1, 1, 1, 1, 1, 1, 0, 1, 1, 0, 0, 1, 1, 0, 0, 1, 1, 1, 1, 0, 1, 1, 1, 1, 0, 0, 0, 0, 1, 0, 1, 1, 1, 1, 1, 0, 1, 0, 1, 1, 0, 1, 1, 0, 1, 0, 1, 0, 1, 1, 0, 0, 0, 1, 1, 0, 0, 1, 1, 1, 1, 0, 0, 1, 0, 1, 0, 1, 1, 0, 0, 1, 0, 0, 1, 0, 0, 0, 0, 1, 0, 0, 1, 1, 0, 1, 0, 0, 1, 0, 0, 1, 0, 1, 0, 1, 1, 1, 0, 1, 1, 1, 1, 1, 1, 0, 0, 0, 1, 0, 0, 1, 0, 1, 1, 0, 0, 1, 1, 1, 0, 0, 1, 1, 0, 1, 1, 0, 0, 1, 1, 1, 0, 0, 1, 1, 1, 1, 1, 1, 0, 1, 1, 1, 1, 1, 1, 1, 1, 1, 1, 1, 0, 0, 0, 0, 1, 1, 1, 1, 1, 1]\n",
      "Optimization terminated successfully.\n",
      "         Current function value: 0.209167\n",
      "         Iterations 9\n",
      "                         Results: Probit\n",
      "=================================================================\n",
      "Model:              Probit           Pseudo R-squared: 0.697     \n",
      "Dependent Variable: y                AIC:              190.3932  \n",
      "Date:               2021-05-01 21:33 BIC:              206.7038  \n",
      "No. Observations:   436              Log-Likelihood:   -91.197   \n",
      "Df Model:           3                LL-Null:          -301.18   \n",
      "Df Residuals:       432              LLR p-value:      1.0478e-90\n",
      "Converged:          1.0000           Scale:            1.0000    \n",
      "No. Iterations:     9.0000                                       \n",
      "-------------------------------------------------------------------\n",
      "           Coef.    Std.Err.      z      P>|z|     [0.025    0.975]\n",
      "-------------------------------------------------------------------\n",
      "const     -1.9423     0.2373   -8.1843   0.0000   -2.4075   -1.4772\n",
      "x1         0.4734     0.0469   10.1007   0.0000    0.3815    0.5653\n",
      "x2         0.0031     0.0020    1.5936   0.1110   -0.0007    0.0069\n",
      "x3        -0.2156     0.0521   -4.1383   0.0000   -0.3177   -0.1135\n",
      "=================================================================\n",
      " \n",
      "\n",
      "Confusion matrix for probability threshold = 0.25:\n",
      "[[202  31]\n",
      " [  8 195]]\n",
      "\n",
      "Detection Rate = 195 / 203 = 0.96\n",
      "False Positive Rate = 31 / 233 = 0.13\n",
      "\n",
      "\n",
      "Confusion matrix for probability threshold = 0.5:\n",
      "[[217  16]\n",
      " [ 20 183]]\n",
      "\n",
      "Detection Rate = 183 / 203 = 0.9\n",
      "False Positive Rate = 16 / 233 = 0.07\n",
      "\n",
      "\n",
      "Confusion matrix for probability threshold = 0.75:\n",
      "[[225   8]\n",
      " [ 44 159]]\n",
      "\n",
      "Detection Rate = 159 / 203 = 0.78\n",
      "False Positive Rate = 8 / 233 = 0.03\n",
      "\n",
      "\n"
     ]
    },
    {
     "data": {
      "image/png": "[encoded data removed]",
      "text/plain": [
       "<Figure size 864x648 with 1 Axes>"
      ]
     },
     "metadata": {
      "needs_background": "light"
     },
     "output_type": "display_data"
    },
    {
     "name": "stdout",
     "output_type": "stream",
     "text": [
      "Area Under Curve = 0.974164358654517\n",
      "\n",
      "\n",
      "\n",
      "\n",
      "y_<class 'statsmodels.discrete.discrete_model.Probit'> = [0, 0, 0, 0, 0, 1, 0, 0, 0, 0, 0, 0, 0, 0, 0, 1, 0, 0, 0, 0, 0, 0, 1, 0, 0, 0, 0, 0, 0, 1, 0, 0, 0, 0, 1, 0, 0, 0, 0, 0, 0, 0, 0, 0, 0, 0, 0, 1, 0, 0, 0, 0, 0, 0, 0, 0, 0, 1, 0, 1, 0, 1, 0, 0, 0, 0, 1, 1, 0, 0, 1, 0, 0, 1, 0, 0, 0, 1, 0, 0, 0, 0, 0, 1, 0, 0, 1, 0, 0, 0, 0, 0, 0, 1, 0, 0, 0, 1, 0, 1, 1, 0, 0, 0, 1, 0, 0, 0, 0, 1, 0, 0, 0, 0, 0, 1, 1, 1, 1, 0, 0, 0, 1, 0, 0, 1, 0, 0, 0, 1, 0, 0, 1, 0, 0, 0, 0, 0, 1, 0, 0, 1, 0, 0, 0, 0, 0, 0, 1, 1, 0, 0, 0, 0, 0, 1, 0, 0, 1, 0, 0, 1, 0, 0, 1, 0, 1, 1, 0, 0, 0, 1, 1, 0, 0, 0, 0, 1, 1, 0, 0, 0, 0, 0, 1, 0, 0, 0, 0, 0, 1, 1, 0, 0, 0, 0, 0, 0, 0, 0, 0, 0, 0, 0, 1, 0, 0, 0, 1, 0, 0, 0, 1, 1, 0, 0, 0, 0, 0, 0, 0, 1, 1, 1, 0, 1, 0, 1, 0, 0, 0, 0, 0, 1, 0, 1, 0, 0, 0, 0, 1, 0, 0, 0, 0, 1, 0, 0, 0, 0, 0, 1, 0, 0, 1, 1, 1, 0, 0, 0, 1, 0, 1, 1, 1, 0, 0, 1, 0, 0, 0, 1, 1, 1, 1, 1, 1, 1, 1, 1, 0, 1, 1, 0, 0, 1, 1, 0, 0, 1, 1, 1, 1, 0, 1, 1, 1, 0, 0, 0, 0, 0, 1, 0, 1, 1, 1, 1, 1, 0, 1, 0, 1, 1, 0, 1, 1, 0, 1, 0, 1, 0, 1, 1, 0, 0, 0, 1, 1, 0, 0, 1, 1, 1, 1, 0, 0, 1, 0, 1, 0, 1, 1, 0, 0, 1, 0, 0, 1, 0, 0, 0, 0, 1, 0, 0, 1, 1, 0, 1, 0, 0, 1, 0, 0, 1, 0, 1, 0, 1, 1, 1, 0, 1, 1, 1, 1, 1, 0, 0, 0, 0, 0, 0, 0, 1, 0, 1, 1, 0, 0, 1, 1, 1, 0, 0, 1, 1, 0, 1, 1, 0, 0, 1, 1, 1, 0, 0, 1, 1, 1, 1, 1, 1, 0, 1, 1, 1, 1, 1, 1, 1, 1, 1, 1, 1, 0, 0, 0, 0, 1, 1, 1, 1, 1, 1]\n",
      "               Results: Generalized linear model\n",
      "===============================================================\n",
      "Model:              GLM              AIC:            211.1736  \n",
      "Link Function:      cloglog          BIC:            -2422.3679\n",
      "Dependent Variable: y                Log-Likelihood: -101.59   \n",
      "Date:               2021-05-01 21:33 LL-Null:        -301.18   \n",
      "No. Observations:   436              Deviance:       203.17    \n",
      "Df Model:           3                Pearson chi2:   2.80e+03  \n",
      "Df Residuals:       432              Scale:          1.0000    \n",
      "Method:             IRLS                                       \n",
      "-----------------------------------------------------------------\n",
      "         Coef.    Std.Err.      z      P>|z|     [0.025    0.975]\n",
      "-----------------------------------------------------------------\n",
      "const   -2.7416     0.3011   -9.1042   0.0000   -3.3318   -2.1514\n",
      "x1       0.4767     0.0495    9.6395   0.0000    0.3798    0.5736\n",
      "x2       0.0026     0.0022    1.2064   0.2277   -0.0016    0.0069\n",
      "x3      -0.1866     0.0502   -3.7171   0.0002   -0.2849   -0.0882\n",
      "===============================================================\n",
      " \n",
      "\n",
      "Confusion matrix for probability threshold = 0.25:\n",
      "[[207  26]\n",
      " [ 10 193]]\n",
      "\n",
      "Detection Rate = 193 / 203 = 0.95\n",
      "False Positive Rate = 26 / 233 = 0.11\n",
      "\n",
      "\n",
      "Confusion matrix for probability threshold = 0.5:\n",
      "[[220  13]\n",
      " [ 29 174]]\n",
      "\n",
      "Detection Rate = 174 / 203 = 0.86\n",
      "False Positive Rate = 13 / 233 = 0.06\n",
      "\n",
      "\n",
      "Confusion matrix for probability threshold = 0.75:\n",
      "[[227   6]\n",
      " [ 52 151]]\n",
      "\n",
      "Detection Rate = 151 / 203 = 0.74\n",
      "False Positive Rate = 6 / 233 = 0.03\n",
      "\n",
      "\n"
     ]
    },
    {
     "data": {
      "image/png": "[encoded data removed]",
      "text/plain": [
       "<Figure size 864x648 with 1 Axes>"
      ]
     },
     "metadata": {
      "needs_background": "light"
     },
     "output_type": "display_data"
    },
    {
     "name": "stdout",
     "output_type": "stream",
     "text": [
      "Area Under Curve = 0.9739317955982156\n",
      "\n",
      "\n",
      "\n",
      "\n",
      "y_cloglog = [0, 0, 0, 0, 0, 1, 0, 0, 0, 0, 0, 0, 0, 0, 0, 1, 0, 0, 0, 0, 0, 0, 0, 0, 0, 0, 0, 0, 0, 1, 0, 0, 0, 0, 1, 0, 0, 0, 0, 0, 0, 0, 0, 0, 0, 0, 0, 0, 0, 0, 0, 0, 0, 0, 0, 0, 0, 1, 0, 1, 0, 1, 0, 0, 0, 0, 1, 1, 0, 0, 0, 0, 0, 1, 0, 0, 0, 1, 0, 0, 0, 0, 0, 1, 0, 0, 1, 0, 0, 0, 0, 0, 0, 1, 0, 0, 0, 1, 0, 0, 1, 0, 0, 0, 1, 0, 0, 0, 0, 1, 0, 0, 0, 0, 0, 1, 1, 1, 1, 0, 0, 0, 1, 0, 0, 0, 0, 0, 0, 1, 0, 0, 1, 0, 0, 0, 0, 0, 1, 0, 0, 1, 0, 0, 0, 0, 0, 0, 1, 1, 0, 0, 0, 0, 0, 1, 0, 0, 1, 0, 0, 1, 0, 0, 1, 0, 1, 1, 0, 0, 0, 1, 1, 0, 0, 0, 0, 1, 1, 0, 0, 0, 0, 0, 1, 0, 0, 0, 0, 0, 1, 1, 0, 0, 0, 0, 0, 0, 0, 0, 0, 0, 0, 0, 1, 0, 0, 0, 1, 0, 0, 0, 1, 1, 0, 0, 0, 0, 0, 0, 0, 1, 0, 1, 0, 1, 0, 1, 0, 0, 0, 0, 0, 1, 0, 0, 0, 0, 0, 0, 1, 0, 0, 0, 0, 1, 0, 0, 0, 0, 0, 1, 0, 0, 1, 1, 1, 0, 0, 0, 1, 0, 1, 1, 1, 0, 0, 1, 0, 0, 0, 1, 1, 1, 1, 1, 1, 1, 1, 0, 0, 1, 1, 0, 0, 1, 1, 0, 0, 1, 1, 1, 1, 0, 1, 1, 1, 0, 0, 0, 0, 0, 1, 0, 1, 1, 1, 1, 1, 0, 1, 0, 1, 1, 0, 1, 1, 0, 1, 0, 1, 0, 1, 1, 0, 0, 0, 1, 1, 0, 0, 1, 1, 1, 1, 0, 0, 1, 0, 1, 0, 1, 1, 0, 0, 1, 0, 0, 1, 0, 0, 0, 0, 1, 0, 0, 1, 1, 0, 1, 0, 0, 1, 0, 0, 1, 0, 1, 0, 1, 1, 1, 0, 1, 1, 1, 1, 1, 0, 0, 0, 0, 0, 0, 0, 1, 0, 1, 1, 0, 0, 1, 0, 1, 0, 0, 1, 1, 0, 1, 1, 0, 0, 1, 1, 0, 0, 0, 1, 1, 1, 1, 1, 1, 0, 1, 1, 1, 1, 1, 1, 1, 1, 1, 1, 1, 0, 0, 0, 0, 1, 1, 1, 1, 1, 1]\n"
     ]
    }
   ],
   "source": [
    "for model in [sm.Logit, sm.Probit, \"cloglog\"]:\n",
    "    y_hat = get_results(model, y, X)\n",
    "    print(f\"y_{str(model)} = {[int(yy) for yy in y_hat]}\")"
   ]
  },
  {
   "cell_type": "code",
   "execution_count": 14,
   "id": "invisible-chocolate",
   "metadata": {},
   "outputs": [
    {
     "name": "stdout",
     "output_type": "stream",
     "text": [
      "               Results: Generalized linear model\n",
      "===============================================================\n",
      "Model:              GLM              AIC:            211.1736  \n",
      "Link Function:      cloglog          BIC:            -2422.3679\n",
      "Dependent Variable: y                Log-Likelihood: -101.59   \n",
      "Date:               2021-05-01 21:33 LL-Null:        -301.18   \n",
      "No. Observations:   436              Deviance:       203.17    \n",
      "Df Model:           3                Pearson chi2:   2.80e+03  \n",
      "Df Residuals:       432              Scale:          1.0000    \n",
      "Method:             IRLS                                       \n",
      "-----------------------------------------------------------------\n",
      "         Coef.    Std.Err.      z      P>|z|     [0.025    0.975]\n",
      "-----------------------------------------------------------------\n",
      "const   -2.7416     0.3011   -9.1042   0.0000   -3.3318   -2.1514\n",
      "x1       0.4767     0.0495    9.6395   0.0000    0.3798    0.5736\n",
      "x2       0.0026     0.0022    1.2064   0.2277   -0.0016    0.0069\n",
      "x3      -0.1866     0.0502   -3.7171   0.0002   -0.2849   -0.0882\n",
      "===============================================================\n",
      " \n",
      "\n",
      "Confusion matrix for probability threshold = 0.25:\n",
      "[[207  26]\n",
      " [ 10 193]]\n",
      "\n",
      "Detection Rate = 193 / 203 = 0.95\n",
      "False Positive Rate = 26 / 233 = 0.11\n",
      "\n",
      "\n",
      "Confusion matrix for probability threshold = 0.5:\n",
      "[[220  13]\n",
      " [ 29 174]]\n",
      "\n",
      "Detection Rate = 174 / 203 = 0.86\n",
      "False Positive Rate = 13 / 233 = 0.06\n",
      "\n",
      "\n",
      "Confusion matrix for probability threshold = 0.75:\n",
      "[[227   6]\n",
      " [ 52 151]]\n",
      "\n",
      "Detection Rate = 151 / 203 = 0.74\n",
      "False Positive Rate = 6 / 233 = 0.03\n",
      "\n",
      "\n"
     ]
    },
    {
     "data": {
      "image/png": "[encoded data removed]",
      "text/plain": [
       "<Figure size 864x648 with 1 Axes>"
      ]
     },
     "metadata": {
      "needs_background": "light"
     },
     "output_type": "display_data"
    },
    {
     "name": "stdout",
     "output_type": "stream",
     "text": [
      "Area Under Curve = 0.9739317955982156\n",
      "\n",
      "\n",
      "\n",
      "\n"
     ]
    }
   ],
   "source": [
    "yhl = get_results('cloglog', y, X)"
   ]
  },
  {
   "cell_type": "code",
   "execution_count": 15,
   "id": "patient-constant",
   "metadata": {},
   "outputs": [],
   "source": [
    "yhl = np.array(yhl, dtype=int)"
   ]
  },
  {
   "cell_type": "code",
   "execution_count": 16,
   "id": "previous-illinois",
   "metadata": {},
   "outputs": [
    {
     "data": {
      "text/plain": [
       "array([0, 0, 0, 0, 0, 1, 0, 0, 0, 0, 0, 0, 0, 0, 0, 1, 0, 0, 0, 0, 0, 0,\n",
       "       0, 0, 0, 0, 0, 0, 0, 1, 0, 0, 0, 0, 1, 0, 0, 0, 0, 0, 0, 0, 0, 0,\n",
       "       0, 0, 0, 0, 0, 0, 0, 0, 0, 0, 0, 0, 0, 1, 0, 1, 0, 1, 0, 0, 0, 0,\n",
       "       1, 1, 0, 0, 0, 0, 0, 1, 0, 0, 0, 1, 0, 0, 0, 0, 0, 1, 0, 0, 1, 0,\n",
       "       0, 0, 0, 0, 0, 1, 0, 0, 0, 1, 0, 0, 1, 0, 0, 0, 1, 0, 0, 0, 0, 1,\n",
       "       0, 0, 0, 0, 0, 1, 1, 1, 1, 0, 0, 0, 1, 0, 0, 0, 0, 0, 0, 1, 0, 0,\n",
       "       1, 0, 0, 0, 0, 0, 1, 0, 0, 1, 0, 0, 0, 0, 0, 0, 1, 1, 0, 0, 0, 0,\n",
       "       0, 1, 0, 0, 1, 0, 0, 1, 0, 0, 1, 0, 1, 1, 0, 0, 0, 1, 1, 0, 0, 0,\n",
       "       0, 1, 1, 0, 0, 0, 0, 0, 1, 0, 0, 0, 0, 0, 1, 1, 0, 0, 0, 0, 0, 0,\n",
       "       0, 0, 0, 0, 0, 0, 1, 0, 0, 0, 1, 0, 0, 0, 1, 1, 0, 0, 0, 0, 0, 0,\n",
       "       0, 1, 0, 1, 0, 1, 0, 1, 0, 0, 0, 0, 0, 1, 0, 0, 0, 0, 0, 0, 1, 0,\n",
       "       0, 0, 0, 1, 0, 0, 0, 0, 0, 1, 0, 0, 1, 1, 1, 0, 0, 0, 1, 0, 1, 1,\n",
       "       1, 0, 0, 1, 0, 0, 0, 1, 1, 1, 1, 1, 1, 1, 1, 0, 0, 1, 1, 0, 0, 1,\n",
       "       1, 0, 0, 1, 1, 1, 1, 0, 1, 1, 1, 0, 0, 0, 0, 0, 1, 0, 1, 1, 1, 1,\n",
       "       1, 0, 1, 0, 1, 1, 0, 1, 1, 0, 1, 0, 1, 0, 1, 1, 0, 0, 0, 1, 1, 0,\n",
       "       0, 1, 1, 1, 1, 0, 0, 1, 0, 1, 0, 1, 1, 0, 0, 1, 0, 0, 1, 0, 0, 0,\n",
       "       0, 1, 0, 0, 1, 1, 0, 1, 0, 0, 1, 0, 0, 1, 0, 1, 0, 1, 1, 1, 0, 1,\n",
       "       1, 1, 1, 1, 0, 0, 0, 0, 0, 0, 0, 1, 0, 1, 1, 0, 0, 1, 0, 1, 0, 0,\n",
       "       1, 1, 0, 1, 1, 0, 0, 1, 1, 0, 0, 0, 1, 1, 1, 1, 1, 1, 0, 1, 1, 1,\n",
       "       1, 1, 1, 1, 1, 1, 1, 1, 0, 0, 0, 0, 1, 1, 1, 1, 1, 1])"
      ]
     },
     "execution_count": 16,
     "metadata": {},
     "output_type": "execute_result"
    }
   ],
   "source": [
    "yhl"
   ]
  },
  {
   "cell_type": "code",
   "execution_count": 17,
   "id": "favorite-barcelona",
   "metadata": {},
   "outputs": [],
   "source": [
    "y = np.array(y, dtype=int)"
   ]
  },
  {
   "cell_type": "code",
   "execution_count": 18,
   "id": "funded-arbor",
   "metadata": {},
   "outputs": [
    {
     "data": {
      "text/plain": [
       "array([1, 0, 0, 1, 1, 1, 0, 0, 0, 0, 0, 1, 1, 0, 0, 1, 0, 0, 0, 0, 0, 1,\n",
       "       1, 0, 0, 0, 1, 0, 1, 0, 0, 0, 0, 0, 1, 0, 0, 0, 0, 0, 1, 1, 0, 0,\n",
       "       0, 0, 0, 1, 0, 0, 0, 1, 0, 0, 0, 0, 0, 1, 0, 1, 0, 1, 0, 1, 0, 0,\n",
       "       1, 1, 0, 0, 1, 0, 1, 0, 0, 0, 0, 1, 0, 0, 0, 0, 0, 1, 0, 0, 1, 0,\n",
       "       0, 0, 0, 0, 1, 1, 0, 0, 1, 1, 1, 0, 1, 0, 0, 0, 1, 0, 0, 0, 0, 1,\n",
       "       0, 0, 0, 0, 0, 1, 1, 1, 1, 0, 0, 0, 1, 0, 0, 1, 0, 0, 0, 1, 0, 0,\n",
       "       1, 0, 0, 0, 0, 0, 1, 0, 1, 1, 0, 0, 0, 0, 0, 1, 1, 1, 0, 0, 0, 0,\n",
       "       0, 1, 0, 0, 1, 0, 0, 1, 0, 1, 1, 0, 1, 1, 0, 0, 0, 1, 1, 0, 0, 0,\n",
       "       0, 1, 1, 0, 0, 0, 0, 0, 1, 0, 0, 0, 0, 0, 1, 1, 0, 0, 1, 0, 0, 0,\n",
       "       0, 0, 1, 0, 0, 0, 1, 0, 0, 0, 1, 1, 1, 0, 1, 1, 0, 0, 0, 0, 0, 1,\n",
       "       0, 1, 1, 0, 0, 1, 0, 1, 0, 1, 0, 0, 0, 1, 1, 0, 0, 0, 0, 0, 1, 0,\n",
       "       0, 0, 0, 1, 0, 0, 0, 0, 0, 1, 0, 0, 1, 0, 1, 0, 0, 0, 1, 1, 1, 1,\n",
       "       1, 0, 1, 1, 0, 0, 0, 1, 1, 1, 1, 1, 1, 1, 1, 1, 0, 1, 1, 0, 0, 1,\n",
       "       1, 1, 1, 1, 1, 1, 1, 0, 1, 1, 1, 0, 0, 0, 1, 1, 1, 1, 1, 1, 1, 1,\n",
       "       1, 0, 1, 0, 1, 1, 0, 1, 0, 0, 1, 1, 1, 0, 1, 1, 0, 0, 0, 1, 1, 0,\n",
       "       0, 1, 1, 1, 1, 1, 0, 1, 0, 1, 0, 1, 1, 1, 0, 1, 0, 1, 1, 0, 0, 1,\n",
       "       0, 1, 0, 0, 1, 1, 0, 1, 0, 1, 0, 0, 0, 1, 0, 1, 0, 1, 1, 1, 0, 1,\n",
       "       1, 1, 1, 1, 1, 1, 0, 0, 1, 0, 0, 1, 0, 1, 1, 0, 0, 1, 1, 1, 0, 0,\n",
       "       1, 1, 0, 1, 1, 0, 0, 1, 1, 1, 0, 0, 1, 1, 1, 1, 1, 1, 0, 1, 1, 1,\n",
       "       1, 1, 1, 1, 1, 1, 1, 1, 0, 0, 1, 1, 1, 1, 1, 1, 1, 1])"
      ]
     },
     "execution_count": 18,
     "metadata": {},
     "output_type": "execute_result"
    }
   ],
   "source": [
    "y"
   ]
  },
  {
   "cell_type": "code",
   "execution_count": null,
   "id": "multiple-interview",
   "metadata": {},
   "outputs": [],
   "source": []
  }
 ],
 "metadata": {
  "kernelspec": {
   "display_name": "Python 3",
   "language": "python",
   "name": "python3"
  },
  "language_info": {
   "codemirror_mode": {
    "name": "ipython",
    "version": 3
   },
   "file_extension": ".py",
   "mimetype": "text/x-python",
   "name": "python",
   "nbconvert_exporter": "python",
   "pygments_lexer": "ipython3",
   "version": "3.9.4"
  }
 },
 "nbformat": 4,
 "nbformat_minor": 5
}
