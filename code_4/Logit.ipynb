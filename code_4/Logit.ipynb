{
 "cells": [
  {
   "cell_type": "code",
   "execution_count": 1,
   "id": "pregnant-presentation",
   "metadata": {},
   "outputs": [],
   "source": [
    "#! python3\n",
    "\n",
    "import numpy as np\n",
    "import sympy\n",
    "import matplotlib.pyplot as plt\n",
    "\n",
    "np.random.seed(42)"
   ]
  },
  {
   "cell_type": "markdown",
   "id": "signal-regard",
   "metadata": {},
   "source": [
    "# Data"
   ]
  },
  {
   "cell_type": "code",
   "execution_count": 2,
   "id": "geological-evans",
   "metadata": {},
   "outputs": [],
   "source": [
    "CRITICAL_GAP = 4.5\n",
    "N = 206\n",
    "\n",
    "distances = np.random.uniform(100, 201, size=N)\n",
    "speeds = np.random.uniform(10, 31, size=N)\n"
   ]
  },
  {
   "cell_type": "code",
   "execution_count": 3,
   "id": "improved-competition",
   "metadata": {},
   "outputs": [],
   "source": [
    "def rand(tau):\n",
    "    if tau > CRITICAL_GAP + 2:\n",
    "        return 1\n",
    "    elif CRITICAL_GAP - 0.2 <= tau <= CRITICAL_GAP:\n",
    "        return np.random.randint(0, 2)\n",
    "    else:\n",
    "        return 0"
   ]
  },
  {
   "cell_type": "code",
   "execution_count": 4,
   "id": "efficient-money",
   "metadata": {},
   "outputs": [],
   "source": [
    "gaps = np.array([distance/speed for distance, speed in zip(distances, speeds)])\n",
    "gap_acceptances = [rand(tau) for tau in gaps]\n",
    "\n",
    "gap_data = dict(sorted(zip(gaps, gap_acceptances)))\n",
    "\n",
    "x_data = np.array(list(gap_data.keys())).reshape(-1, 1)\n",
    "y_data = np.array(list(gap_data.values()))"
   ]
  },
  {
   "cell_type": "code",
   "execution_count": 5,
   "id": "accomplished-above",
   "metadata": {},
   "outputs": [
    {
     "data": {
      "text/plain": [
       "<matplotlib.collections.PathCollection at 0x2980bf39e20>"
      ]
     },
     "execution_count": 5,
     "metadata": {},
     "output_type": "execute_result"
    },
    {
     "data": {
      "image/png": "[encoded data removed]",
      "text/plain": [
       "<Figure size 432x288 with 1 Axes>"
      ]
     },
     "metadata": {
      "needs_background": "light"
     },
     "output_type": "display_data"
    }
   ],
   "source": [
    "plt.scatter(x_data, y_data)"
   ]
  },
  {
   "cell_type": "markdown",
   "id": "meaning-lawyer",
   "metadata": {},
   "source": [
    "# Model\n",
    "### $$\\eta_i = \\beta_1 + \\beta_2 X_i$$\n",
    "### $$\\mu_i = E[Y_i] = \\eta_i = \\beta_1 + \\beta_2 X_i$$\n"
   ]
  },
  {
   "cell_type": "code",
   "execution_count": 6,
   "id": "experienced-stations",
   "metadata": {},
   "outputs": [],
   "source": [
    "import numpy as np\n",
    "import sympy\n",
    "from scipy.stats import chi2, norm\n",
    "from statistics import mean, variance\n",
    "import matplotlib.pyplot as plt\n",
    "\n",
    "np.random.seed(42)\n",
    "\n",
    "\n",
    "class CustomLogit:\n",
    "    def __init__(self, x, y):\n",
    "        \n",
    "        self.x = np.array(x)\n",
    "        self.y = np.array(y)\n",
    "        \n",
    "        self.N = len(y)\n",
    "        self.p = self.x.shape[1]\n",
    "        \n",
    "        self.beta_vect = np.array([sympy.Symbol(f'β{i}') for i in range(self.p)])  \n",
    "        \n",
    "        self.eta = np.array([xi.transpose().dot(self.beta_vect) for xi in self.x])\n",
    "        self.pi = np.array([sympy.exp(n)/(1 + sympy.exp(n)) for n in self.eta])\n",
    "        self.mu = self.pi.copy()\n",
    "        self.xij = np.array([[sympy.diff(n, beta) for beta in self.beta_vect] \n",
    "                             for n in self.eta])\n",
    "        self.__solved_betas = []\n",
    "        self.__cov_matrix = []\n",
    "        self.__design_matrix = []\n",
    "        \n",
    "    def log_likelihood(self, j):\n",
    "        return sum((self.y[i] - self.mu[i])*self.xij[i][j] for i in range(self.N))\n",
    "    \n",
    "    @property\n",
    "    def coeffs(self):\n",
    "        if self.__solved_betas:\n",
    "            return self.__solved_betas\n",
    "        else:\n",
    "            raise Exception(\"Model is not fitted yet.\")\n",
    "    \n",
    "    def fit(self, initial_guess):\n",
    "        ll_eqs = [self.log_likelihood(j) for j, _ in enumerate(self.beta_vect)]\n",
    "        soln = sympy.nsolve(ll_eqs, self.beta_vect.flatten(), initial_guess)\n",
    "        self.__solved_betas = {b: bb for b, bb in zip(self.beta_vect.flatten(), soln)}\n",
    "        \n",
    "    def predict(self, x):\n",
    "        \"\"\"Returns predictions for new x data\"\"\"\n",
    "        x = np.array(x)\n",
    "        etas = np.array([xi.transpose().dot(self.beta_vect).subs(self.__solved_betas) for xi in x])\n",
    "        return np.array([sympy.exp(n)/(1 + sympy.exp(n)) for n in etas])\n",
    "        \n",
    "    @property\n",
    "    def goodness_of_fit(self):\n",
    "        df = self.N - self.p\n",
    "        chi2crit = chi2.ppf(0.95, df)\n",
    "        mu_hat = self.predict(self.x)\n",
    "        deviance_statistic = 2 * sum((- (self.y[i]-mu_hat[i])) \n",
    "                                     + (self.y[i] * np.log(float(self.y[i]/mu_hat[i]))\n",
    "                                        if self.y[i] > 0 else 0) \n",
    "                                     for i in range(self.N))\n",
    "        return (deviance_statistic, chi2crit, df)\n",
    "    \n",
    "    @property\n",
    "    def pearson_residuals(self):\n",
    "        y_hat = self.predict(self.x)\n",
    "        r = [float((self.y[i] - y_hat[i]) / y_hat[i]**0.5) for i in range(self.N)]\n",
    "        self.plot(x=list(range(1, len(r)+1)), y=r, xlabel=r'$i$', ylabel=r'$r_i$', title='Pearson residuals')\n",
    "        return mean(r), variance(r)\n",
    "    \n",
    "    def plot(self, x, y, xlabel, ylabel, title):\n",
    "        fig, ax = plt.subplots()\n",
    "        plt.plot(x, y, 'r')\n",
    "        ax.set_xlabel(xlabel, fontsize=15)\n",
    "        ax.set_ylabel(ylabel, fontsize=15)\n",
    "        ax.set_title(title)\n",
    "        plt.show()\n",
    "        \n",
    "    @property\n",
    "    def W(self):\n",
    "        if self.__design_matrix:\n",
    "            return self.__design_matrix\n",
    "        pi_hat = np.array([self.pi[i].subs(self.__solved_betas) for i in range(N)])\n",
    "        return np.diag(np.array([pi_hat[i]*(1-pi_hat[i]) for i in range(self.N)]))\n",
    "    \n",
    "    @property\n",
    "    def cov_matrix(self):\n",
    "        if self.__cov_matrix:\n",
    "            return self.__cov_matrix\n",
    "        wx = model.W.dot(self.x)\n",
    "        xtwx = np.array(self.x.transpose().dot(wx), dtype=float)\n",
    "        return np.linalg.inv(xtwx)\n",
    "    \n",
    "    def std_error(self, i):\n",
    "        return (self.cov_matrix[i][i])**0.5\n",
    "    \n",
    "    def z_statistic(self, i):\n",
    "        return list(self.coeffs.values())[i] / self.std_error(i)\n",
    "    \n",
    "    def p_statistic(self, i):\n",
    "        return norm.cdf(float(self.z_statistic(i)))\n",
    "        "
   ]
  },
  {
   "cell_type": "code",
   "execution_count": 7,
   "id": "alive-hands",
   "metadata": {},
   "outputs": [],
   "source": [
    "x = [[1, *x_i] for x_i in x_data]\n",
    "y = y_data\n",
    "\n",
    "model = CustomLogit(x, y)"
   ]
  },
  {
   "cell_type": "code",
   "execution_count": 8,
   "id": "appreciated-iraqi",
   "metadata": {},
   "outputs": [
    {
     "ename": "ValueError",
     "evalue": "Could not find root within given tolerance. (1.15242559769104941809e-15 > 2.16840434497100886801e-19)\nTry another starting point or tweak arguments.",
     "output_type": "error",
     "traceback": [
      "\u001b[1;31m---------------------------------------------------------------------------\u001b[0m",
      "\u001b[1;31mValueError\u001b[0m                                Traceback (most recent call last)",
      "\u001b[1;32m<ipython-input-8-c0cd5150ffd3>\u001b[0m in \u001b[0;36m<module>\u001b[1;34m\u001b[0m\n\u001b[1;32m----> 1\u001b[1;33m \u001b[0mmodel\u001b[0m\u001b[1;33m.\u001b[0m\u001b[0mfit\u001b[0m\u001b[1;33m(\u001b[0m\u001b[0minitial_guess\u001b[0m\u001b[1;33m=\u001b[0m\u001b[1;33m(\u001b[0m\u001b[1;33m-\u001b[0m\u001b[1;36m10\u001b[0m\u001b[1;33m,\u001b[0m \u001b[1;36m9\u001b[0m\u001b[1;33m)\u001b[0m\u001b[1;33m)\u001b[0m\u001b[1;33m\u001b[0m\u001b[1;33m\u001b[0m\u001b[0m\n\u001b[0m",
      "\u001b[1;32m<ipython-input-6-f7f54526f62d>\u001b[0m in \u001b[0;36mfit\u001b[1;34m(self, initial_guess)\u001b[0m\n\u001b[0;32m     40\u001b[0m     \u001b[1;32mdef\u001b[0m \u001b[0mfit\u001b[0m\u001b[1;33m(\u001b[0m\u001b[0mself\u001b[0m\u001b[1;33m,\u001b[0m \u001b[0minitial_guess\u001b[0m\u001b[1;33m)\u001b[0m\u001b[1;33m:\u001b[0m\u001b[1;33m\u001b[0m\u001b[1;33m\u001b[0m\u001b[0m\n\u001b[0;32m     41\u001b[0m         \u001b[0mll_eqs\u001b[0m \u001b[1;33m=\u001b[0m \u001b[1;33m[\u001b[0m\u001b[0mself\u001b[0m\u001b[1;33m.\u001b[0m\u001b[0mlog_likelihood\u001b[0m\u001b[1;33m(\u001b[0m\u001b[0mj\u001b[0m\u001b[1;33m)\u001b[0m \u001b[1;32mfor\u001b[0m \u001b[0mj\u001b[0m\u001b[1;33m,\u001b[0m \u001b[0m_\u001b[0m \u001b[1;32min\u001b[0m \u001b[0menumerate\u001b[0m\u001b[1;33m(\u001b[0m\u001b[0mself\u001b[0m\u001b[1;33m.\u001b[0m\u001b[0mbeta_vect\u001b[0m\u001b[1;33m)\u001b[0m\u001b[1;33m]\u001b[0m\u001b[1;33m\u001b[0m\u001b[1;33m\u001b[0m\u001b[0m\n\u001b[1;32m---> 42\u001b[1;33m         \u001b[0msoln\u001b[0m \u001b[1;33m=\u001b[0m \u001b[0msympy\u001b[0m\u001b[1;33m.\u001b[0m\u001b[0mnsolve\u001b[0m\u001b[1;33m(\u001b[0m\u001b[0mll_eqs\u001b[0m\u001b[1;33m,\u001b[0m \u001b[0mself\u001b[0m\u001b[1;33m.\u001b[0m\u001b[0mbeta_vect\u001b[0m\u001b[1;33m.\u001b[0m\u001b[0mflatten\u001b[0m\u001b[1;33m(\u001b[0m\u001b[1;33m)\u001b[0m\u001b[1;33m,\u001b[0m \u001b[0minitial_guess\u001b[0m\u001b[1;33m)\u001b[0m\u001b[1;33m\u001b[0m\u001b[1;33m\u001b[0m\u001b[0m\n\u001b[0m\u001b[0;32m     43\u001b[0m         \u001b[0mself\u001b[0m\u001b[1;33m.\u001b[0m\u001b[0m__solved_betas\u001b[0m \u001b[1;33m=\u001b[0m \u001b[1;33m{\u001b[0m\u001b[0mb\u001b[0m\u001b[1;33m:\u001b[0m \u001b[0mbb\u001b[0m \u001b[1;32mfor\u001b[0m \u001b[0mb\u001b[0m\u001b[1;33m,\u001b[0m \u001b[0mbb\u001b[0m \u001b[1;32min\u001b[0m \u001b[0mzip\u001b[0m\u001b[1;33m(\u001b[0m\u001b[0mself\u001b[0m\u001b[1;33m.\u001b[0m\u001b[0mbeta_vect\u001b[0m\u001b[1;33m.\u001b[0m\u001b[0mflatten\u001b[0m\u001b[1;33m(\u001b[0m\u001b[1;33m)\u001b[0m\u001b[1;33m,\u001b[0m \u001b[0msoln\u001b[0m\u001b[1;33m)\u001b[0m\u001b[1;33m}\u001b[0m\u001b[1;33m\u001b[0m\u001b[1;33m\u001b[0m\u001b[0m\n\u001b[0;32m     44\u001b[0m \u001b[1;33m\u001b[0m\u001b[0m\n",
      "\u001b[1;32mc:\\users\\simanta\\appdata\\local\\programs\\python\\python39\\lib\\site-packages\\sympy\\utilities\\decorator.py\u001b[0m in \u001b[0;36mfunc_wrapper\u001b[1;34m(*args, **kwargs)\u001b[0m\n\u001b[0;32m     88\u001b[0m         \u001b[0mdps\u001b[0m \u001b[1;33m=\u001b[0m \u001b[0mmpmath\u001b[0m\u001b[1;33m.\u001b[0m\u001b[0mmp\u001b[0m\u001b[1;33m.\u001b[0m\u001b[0mdps\u001b[0m\u001b[1;33m\u001b[0m\u001b[1;33m\u001b[0m\u001b[0m\n\u001b[0;32m     89\u001b[0m         \u001b[1;32mtry\u001b[0m\u001b[1;33m:\u001b[0m\u001b[1;33m\u001b[0m\u001b[1;33m\u001b[0m\u001b[0m\n\u001b[1;32m---> 90\u001b[1;33m             \u001b[1;32mreturn\u001b[0m \u001b[0mfunc\u001b[0m\u001b[1;33m(\u001b[0m\u001b[1;33m*\u001b[0m\u001b[0margs\u001b[0m\u001b[1;33m,\u001b[0m \u001b[1;33m**\u001b[0m\u001b[0mkwargs\u001b[0m\u001b[1;33m)\u001b[0m\u001b[1;33m\u001b[0m\u001b[1;33m\u001b[0m\u001b[0m\n\u001b[0m\u001b[0;32m     91\u001b[0m         \u001b[1;32mfinally\u001b[0m\u001b[1;33m:\u001b[0m\u001b[1;33m\u001b[0m\u001b[1;33m\u001b[0m\u001b[0m\n\u001b[0;32m     92\u001b[0m             \u001b[0mmpmath\u001b[0m\u001b[1;33m.\u001b[0m\u001b[0mmp\u001b[0m\u001b[1;33m.\u001b[0m\u001b[0mdps\u001b[0m \u001b[1;33m=\u001b[0m \u001b[0mdps\u001b[0m\u001b[1;33m\u001b[0m\u001b[1;33m\u001b[0m\u001b[0m\n",
      "\u001b[1;32mc:\\users\\simanta\\appdata\\local\\programs\\python\\python39\\lib\\site-packages\\sympy\\solvers\\solvers.py\u001b[0m in \u001b[0;36mnsolve\u001b[1;34m(*args, **kwargs)\u001b[0m\n\u001b[0;32m   3033\u001b[0m     \u001b[0mJ\u001b[0m \u001b[1;33m=\u001b[0m \u001b[0mlambdify\u001b[0m\u001b[1;33m(\u001b[0m\u001b[0mfargs\u001b[0m\u001b[1;33m,\u001b[0m \u001b[0mJ\u001b[0m\u001b[1;33m,\u001b[0m \u001b[0mmodules\u001b[0m\u001b[1;33m)\u001b[0m\u001b[1;33m\u001b[0m\u001b[1;33m\u001b[0m\u001b[0m\n\u001b[0;32m   3034\u001b[0m     \u001b[1;31m# solve the system numerically\u001b[0m\u001b[1;33m\u001b[0m\u001b[1;33m\u001b[0m\u001b[1;33m\u001b[0m\u001b[0m\n\u001b[1;32m-> 3035\u001b[1;33m     \u001b[0mx\u001b[0m \u001b[1;33m=\u001b[0m \u001b[0mfindroot\u001b[0m\u001b[1;33m(\u001b[0m\u001b[0mf\u001b[0m\u001b[1;33m,\u001b[0m \u001b[0mx0\u001b[0m\u001b[1;33m,\u001b[0m \u001b[0mJ\u001b[0m\u001b[1;33m=\u001b[0m\u001b[0mJ\u001b[0m\u001b[1;33m,\u001b[0m \u001b[1;33m**\u001b[0m\u001b[0mkwargs\u001b[0m\u001b[1;33m)\u001b[0m\u001b[1;33m\u001b[0m\u001b[1;33m\u001b[0m\u001b[0m\n\u001b[0m\u001b[0;32m   3036\u001b[0m     \u001b[1;32mif\u001b[0m \u001b[0mas_dict\u001b[0m\u001b[1;33m:\u001b[0m\u001b[1;33m\u001b[0m\u001b[1;33m\u001b[0m\u001b[0m\n\u001b[0;32m   3037\u001b[0m         \u001b[1;32mreturn\u001b[0m \u001b[1;33m[\u001b[0m\u001b[0mdict\u001b[0m\u001b[1;33m(\u001b[0m\u001b[0mzip\u001b[0m\u001b[1;33m(\u001b[0m\u001b[0mfargs\u001b[0m\u001b[1;33m,\u001b[0m \u001b[1;33m[\u001b[0m\u001b[0msympify\u001b[0m\u001b[1;33m(\u001b[0m\u001b[0mxi\u001b[0m\u001b[1;33m)\u001b[0m \u001b[1;32mfor\u001b[0m \u001b[0mxi\u001b[0m \u001b[1;32min\u001b[0m \u001b[0mx\u001b[0m\u001b[1;33m]\u001b[0m\u001b[1;33m)\u001b[0m\u001b[1;33m)\u001b[0m\u001b[1;33m]\u001b[0m\u001b[1;33m\u001b[0m\u001b[1;33m\u001b[0m\u001b[0m\n",
      "\u001b[1;32mc:\\users\\simanta\\appdata\\local\\programs\\python\\python39\\lib\\site-packages\\mpmath\\calculus\\optimization.py\u001b[0m in \u001b[0;36mfindroot\u001b[1;34m(ctx, f, x0, solver, tol, verbose, verify, **kwargs)\u001b[0m\n\u001b[0;32m    974\u001b[0m             \u001b[0mxl\u001b[0m \u001b[1;33m=\u001b[0m \u001b[0mx\u001b[0m\u001b[1;33m\u001b[0m\u001b[1;33m\u001b[0m\u001b[0m\n\u001b[0;32m    975\u001b[0m         \u001b[1;32mif\u001b[0m \u001b[0mverify\u001b[0m \u001b[1;32mand\u001b[0m \u001b[0mnorm\u001b[0m\u001b[1;33m(\u001b[0m\u001b[0mf\u001b[0m\u001b[1;33m(\u001b[0m\u001b[1;33m*\u001b[0m\u001b[0mxl\u001b[0m\u001b[1;33m)\u001b[0m\u001b[1;33m)\u001b[0m\u001b[1;33m**\u001b[0m\u001b[1;36m2\u001b[0m \u001b[1;33m>\u001b[0m \u001b[0mtol\u001b[0m\u001b[1;33m:\u001b[0m \u001b[1;31m# TODO: better condition?\u001b[0m\u001b[1;33m\u001b[0m\u001b[1;33m\u001b[0m\u001b[0m\n\u001b[1;32m--> 976\u001b[1;33m             raise ValueError('Could not find root within given tolerance. '\n\u001b[0m\u001b[0;32m    977\u001b[0m                              \u001b[1;34m'(%s > %s)\\n'\u001b[0m\u001b[1;33m\u001b[0m\u001b[1;33m\u001b[0m\u001b[0m\n\u001b[0;32m    978\u001b[0m                              \u001b[1;34m'Try another starting point or tweak arguments.'\u001b[0m\u001b[1;33m\u001b[0m\u001b[1;33m\u001b[0m\u001b[0m\n",
      "\u001b[1;31mValueError\u001b[0m: Could not find root within given tolerance. (1.15242559769104941809e-15 > 2.16840434497100886801e-19)\nTry another starting point or tweak arguments."
     ]
    }
   ],
   "source": [
    "model.fit(initial_guess=(-10, 9))"
   ]
  },
  {
   "cell_type": "code",
   "execution_count": null,
   "id": "bound-ultimate",
   "metadata": {},
   "outputs": [],
   "source": [
    "print(model.coeffs)"
   ]
  },
  {
   "cell_type": "code",
   "execution_count": null,
   "id": "unexpected-extension",
   "metadata": {},
   "outputs": [],
   "source": []
  },
  {
   "cell_type": "code",
   "execution_count": null,
   "id": "linear-indie",
   "metadata": {},
   "outputs": [],
   "source": [
    "model.cov_matrix"
   ]
  },
  {
   "cell_type": "code",
   "execution_count": null,
   "id": "fourth-raising",
   "metadata": {},
   "outputs": [],
   "source": [
    "se = [model.std_error(i) for i, _ in enumerate(model.beta_vect)]\n",
    "se"
   ]
  },
  {
   "cell_type": "code",
   "execution_count": null,
   "id": "related-consumer",
   "metadata": {},
   "outputs": [],
   "source": [
    "z = [model.z_statistic(i) for i, _ in enumerate(model.beta_vect)]\n",
    "z"
   ]
  },
  {
   "cell_type": "code",
   "execution_count": null,
   "id": "naughty-report",
   "metadata": {},
   "outputs": [],
   "source": [
    "p = [model.p_statistic(i) for i, _ in enumerate(model.beta_vect)]\n",
    "p"
   ]
  },
  {
   "cell_type": "code",
   "execution_count": null,
   "id": "generous-cleaner",
   "metadata": {},
   "outputs": [],
   "source": [
    "y"
   ]
  },
  {
   "cell_type": "code",
   "execution_count": null,
   "id": "closing-multimedia",
   "metadata": {},
   "outputs": [],
   "source": [
    "model.predict(x)"
   ]
  },
  {
   "cell_type": "code",
   "execution_count": null,
   "id": "attractive-replica",
   "metadata": {},
   "outputs": [],
   "source": []
  }
 ],
 "metadata": {
  "kernelspec": {
   "display_name": "Python 3",
   "language": "python",
   "name": "python3"
  },
  "language_info": {
   "codemirror_mode": {
    "name": "ipython",
    "version": 3
   },
   "file_extension": ".py",
   "mimetype": "text/x-python",
   "name": "python",
   "nbconvert_exporter": "python",
   "pygments_lexer": "ipython3",
   "version": "3.9.4"
  }
 },
 "nbformat": 4,
 "nbformat_minor": 5
}
