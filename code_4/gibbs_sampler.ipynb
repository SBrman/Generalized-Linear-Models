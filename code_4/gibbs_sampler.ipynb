{
 "cells": [
  {
   "cell_type": "code",
   "execution_count": 1,
   "id": "organized-swaziland",
   "metadata": {},
   "outputs": [],
   "source": [
    "import numpy as np\n",
    "import statistics\n",
    "from matplotlib import pyplot as plt"
   ]
  },
  {
   "cell_type": "code",
   "execution_count": 2,
   "id": "documentary-lunch",
   "metadata": {},
   "outputs": [],
   "source": [
    "G = 32.2\n",
    "MU1, MU2 = 0.55, 0.90\n",
    "D1, D2 = 65, 85\n",
    "V1, V2 = 20, 100\n",
    "\n",
    "\n",
    "def d(v, mu):\n",
    "    return v**2 / (2 * mu * G)\n",
    "\n",
    "def v_given_(mu):\n",
    "    return np.random.uniform((2 * mu * G * D1)**0.5, (2 * mu * G * D1)**0.5)\n",
    "\n",
    "def mu_given_(v):\n",
    "    return np.random.uniform(max(MU1, (v**2 / (2 * G * D2))), max(MU2, (v**2 / (2 * G * D1))))\n",
    "\n",
    "def gibbs_sampler(N):    \n",
    "    mu, v = {0: 0.75}, {0: 60}   # initial guesses\n",
    "    \n",
    "    for n in range(1, N):\n",
    "        v[n] = v_given_(mu[n-1])\n",
    "        mu[n] = mu_given_(v[n])\n",
    "        \n",
    "    return mu, v"
   ]
  },
  {
   "cell_type": "code",
   "execution_count": 7,
   "id": "raising-junior",
   "metadata": {},
   "outputs": [
    {
     "name": "stdout",
     "output_type": "stream",
     "text": [
      "0.7467466517123713 55.80186113862682\n",
      "3.482069073077513\n",
      "0.7448872776758523 55.72929857748252\n",
      "3.52113045724437\n",
      "0.7482101131988432 55.85345622649517\n",
      "3.5205187913776395\n",
      "0.7452977101220359 55.74504934821415\n",
      "3.5132778272499157\n",
      "0.7469280719788889 55.80624427948914\n",
      "3.519172279828499\n",
      "0.7433011516753281 55.66882888198985\n",
      "3.539456164200471\n",
      "0.7450216575464265 55.73567135305783\n",
      "3.4939319340604493\n",
      "0.7450858087987577 55.735620735266224\n",
      "3.541178681666574\n",
      "0.7440270715025451 55.6977769473267\n",
      "3.506227662347672\n",
      "0.7461140152239407 55.77616549906546\n",
      "3.5025970018035943\n"
     ]
    },
    {
     "data": {
      "image/png": "[encoded data removed]",
      "text/plain": [
       "<Figure size 432x288 with 1 Axes>"
      ]
     },
     "metadata": {
      "needs_background": "light"
     },
     "output_type": "display_data"
    }
   ],
   "source": [
    "for i in range(10):\n",
    "    mu, v = gibbs_sampler(10000)\n",
    "    print(statistics.mean(mu.values()), statistics.mean(v.values()))\n",
    "    print(statistics.stdev(v.values()))\n",
    "    plt.hist(list(v.values()), bins=25, density=True, alpha=0.5)"
   ]
  },
  {
   "cell_type": "code",
   "execution_count": 4,
   "id": "illegal-presentation",
   "metadata": {},
   "outputs": [
    {
     "data": {
      "text/plain": [
       "10000"
      ]
     },
     "execution_count": 4,
     "metadata": {},
     "output_type": "execute_result"
    }
   ],
   "source": [
    "len(v.values())"
   ]
  },
  {
   "cell_type": "code",
   "execution_count": 5,
   "id": "constitutional-respondent",
   "metadata": {},
   "outputs": [
    {
     "data": {
      "text/plain": [
       "10000"
      ]
     },
     "execution_count": 5,
     "metadata": {},
     "output_type": "execute_result"
    }
   ],
   "source": [
    "len(list(v.values()))"
   ]
  },
  {
   "cell_type": "code",
   "execution_count": 26,
   "id": "nutritional-placement",
   "metadata": {},
   "outputs": [],
   "source": [
    "def gibbs(N):\n",
    "    circle = 0\n",
    "    square = 0\n",
    "    for i in range(N):\n",
    "        x = np.random.uniform(-1, 1)\n",
    "        y = np.random.uniform(-1, 1)\n",
    "        if x**2 + y**2 <= 1:\n",
    "            circle += 1\n",
    "        square += 1\n",
    "    return 4 * circle / square\n",
    "    \n",
    "spam = [gibbs(100000) for i in range(100)]"
   ]
  },
  {
   "cell_type": "code",
   "execution_count": 13,
   "id": "sexual-stamp",
   "metadata": {},
   "outputs": [
    {
     "data": {
      "text/plain": [
       "0.8036924055083106"
      ]
     },
     "execution_count": 13,
     "metadata": {},
     "output_type": "execute_result"
    }
   ],
   "source": []
  },
  {
   "cell_type": "code",
   "execution_count": null,
   "id": "chronic-pioneer",
   "metadata": {},
   "outputs": [],
   "source": []
  }
 ],
 "metadata": {
  "kernelspec": {
   "display_name": "Python 3",
   "language": "python",
   "name": "python3"
  },
  "language_info": {
   "codemirror_mode": {
    "name": "ipython",
    "version": 3
   },
   "file_extension": ".py",
   "mimetype": "text/x-python",
   "name": "python",
   "nbconvert_exporter": "python",
   "pygments_lexer": "ipython3",
   "version": "3.9.4"
  }
 },
 "nbformat": 4,
 "nbformat_minor": 5
}
